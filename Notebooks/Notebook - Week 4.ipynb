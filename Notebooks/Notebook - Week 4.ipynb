{
 "cells": [
  {
   "cell_type": "markdown",
   "id": "0f74aad6",
   "metadata": {},
   "source": [
    "# Week 4 Notebook\n",
    "## Author: @raj-ch017\n",
    "---\n",
    "\n",
    "Notebook containing programs on Strings, Lists and Dictionaries."
   ]
  },
  {
   "cell_type": "markdown",
   "id": "26c1f611",
   "metadata": {},
   "source": [
    "### Program 1\n",
    "---\n",
    "\n",
    "Write a function called `is_palindrome` that takes in a string and checks if it's a palindrome. A palindrome is a string that can be read equally from left to right or right to left, ignoring capitalization and blank spaces. The function should return `True` if the passed string is a palindrome, and `False` if not.\n",
    "\n",
    "**Function Signature**:\n",
    "def is_palindrome(word: str) -> bool:\n",
    "\n",
    "**Example Input**:\n",
    "is_palindrome(\"Kayak\")\n",
    "\n",
    "**Example Output**:\n",
    "True\n",
    "\n",
    "**Note**:\n",
    "In the above example, the function should return True because \"Kayak\" is a palindrome string. When we read it from left to right or right to left, ignoring capitalization and blank spaces, the string remains the same."
   ]
  },
  {
   "cell_type": "code",
   "execution_count": 1,
   "id": "3c20e1ca",
   "metadata": {},
   "outputs": [],
   "source": [
    "def is_palindrome(input_string):\n",
    "    \n",
    "    \"\"\"\n",
    "    Parameters:\n",
    "        input_string (str): A string to be checked\n",
    "        \n",
    "    Returns:\n",
    "        True if input_string is palindrome, \n",
    "        False otherwise.\n",
    "    \"\"\"\n",
    "    \n",
    "    actual_input_string = input_string.lower()\n",
    "    str_len = len(actual_input_string)\n",
    "    str_ind = str_len-1\n",
    "    \n",
    "    new_string = \"\"\n",
    "    actual_reverse = \"\"\n",
    "    \n",
    "    reverse_string = actual_input_string[str_ind::-1]\n",
    "    reversing1 = reverse_string.split()\n",
    "    \n",
    "    for letter in actual_input_string:\n",
    "        \n",
    "        if letter != \" \":\n",
    "            new_string = new_string + letter\n",
    "    \n",
    "    for letter in reversing1:\n",
    "        actual_reverse = actual_reverse + letter\n",
    "    \n",
    "    if new_string == actual_reverse:\n",
    "            return True\n",
    "    else:\n",
    "        return False"
   ]
  },
  {
   "cell_type": "code",
   "execution_count": 2,
   "id": "2e6a2799",
   "metadata": {},
   "outputs": [
    {
     "name": "stdout",
     "output_type": "stream",
     "text": [
      "Is 'Never Odd or Even' a palindrome? -  True\n",
      "\n",
      "Is 'abc' a palindrome? -  False\n",
      "\n",
      "Is 'kayak' a palindrome? -  True\n"
     ]
    }
   ],
   "source": [
    "# Should be True\n",
    "print(\"Is 'Never Odd or Even' a palindrome? - \",is_palindrome(\"Never Odd or Even\"),end=\"\\n\\n\")\n",
    "\n",
    "# Should be False\n",
    "print(\"Is 'abc' a palindrome? - \",is_palindrome(\"abc\"),end=\"\\n\\n\")\n",
    "\n",
    "# Should be True\n",
    "print(\"Is 'kayak' a palindrome? - \",is_palindrome(\"kayak\"))"
   ]
  },
  {
   "cell_type": "markdown",
   "id": "e468e3b6",
   "metadata": {},
   "source": [
    "---"
   ]
  },
  {
   "cell_type": "markdown",
   "id": "ad1721d6",
   "metadata": {},
   "source": [
    "### Program 2\n",
    "\n",
    "Write a function called `replace_ending` that takes three parameters: `sentence`, `old`, and `new`. The function should replace the old string in the sentence with the new string, but only if the sentence ends with the old string. If there is more than one occurrence of the old string in the sentence, only the one at the end is replaced, not all of them. The function should then return the updated sentence.\n",
    "\n",
    "**For example**\n",
    "\n",
    "replace_ending(\"abcabc\", \"abc\", \"xyz\") should return \"abcxyz\", not \"xyzxyz\" or \"xyzabc\". \n",
    "\n",
    "**Note** that the string comparison should be case-sensitive, so replace_ending(\"abcabc\", \"ABC\", \"xyz\") should return \"abcabc\" (no changes made)."
   ]
  },
  {
   "cell_type": "code",
   "execution_count": 3,
   "id": "3be78b88",
   "metadata": {},
   "outputs": [],
   "source": [
    "def replace_ending(sentence, old, new):\n",
    "    \n",
    "    \"\"\"\n",
    "    Parameters:\n",
    "        sentence (str): The input sentence\n",
    "        old (str): the string to be replaced\n",
    "        new (str): the string that replaces the old string\n",
    "        \n",
    "    Returns:\n",
    "        str: the modified sentence with old string\n",
    "        replaced by new string. if old is found at the\n",
    "        end of the sentence. Otherwise, returns the \n",
    "        original sentence.\n",
    "    \"\"\"\n",
    "\n",
    "    # Checking if the old string is at the end of the sentence \n",
    "    if sentence.endswith(old):\n",
    "        \n",
    "        i = len(sentence) - len(old)\n",
    "        new_sentence = sentence[:i] + new\n",
    "        return new_sentence\n",
    "\n",
    "     \n",
    "    return sentence"
   ]
  },
  {
   "cell_type": "code",
   "execution_count": 4,
   "id": "1678d8c4",
   "metadata": {},
   "outputs": [
    {
     "name": "stdout",
     "output_type": "stream",
     "text": [
      "It's raining cats and dogs\n",
      "\n",
      "She sells seashells by the seashore\n",
      "\n",
      "The weather is nice in May\n",
      "\n",
      "The weather is nice in April\n",
      "\n"
     ]
    }
   ],
   "source": [
    "# Should display \"It's raining cats and dogs\"    \n",
    "print(replace_ending(\"It's raining cats and cats\", \"cats\", \"dogs\"),end=\"\\n\\n\")\n",
    "\n",
    "# Should display \"She sells seashells by the seashore\"\n",
    "print(replace_ending(\"She sells seashells by the seashore\", \"seashells\", \"donuts\"),end=\"\\n\\n\")\n",
    "\n",
    "# Should display \"The weather is nice in May\"\n",
    "print(replace_ending(\"The weather is nice in May\", \"may\", \"april\"),end=\"\\n\\n\")\n",
    "\n",
    "# Should display \"The weather is nice in April\"\n",
    "print(replace_ending(\"The weather is nice in May\", \"May\", \"April\"),end=\"\\n\\n\") "
   ]
  },
  {
   "cell_type": "markdown",
   "id": "7839d660",
   "metadata": {},
   "source": [
    "---"
   ]
  },
  {
   "cell_type": "markdown",
   "id": "97c9b86c",
   "metadata": {},
   "source": [
    "### Program 3\n",
    "---\n",
    "\n",
    "You are given a list of filenames. Your task is to rename all the files with extension hpp to the extension h. You should generate a new list called newfilenames, which will consist of the new filenames.\n",
    "\n",
    "            filenames = [\"program.cpp\", \"data.hpp\", \"output.hpp\", \"file.hpp\"]\n",
    "            newfilenames = []"
   ]
  },
  {
   "cell_type": "code",
   "execution_count": 5,
   "id": "d948c5e3",
   "metadata": {},
   "outputs": [],
   "source": [
    "def change_filename(filenames):\n",
    "    \"\"\"\n",
    "    Changes the file extension from '.hpp' to '.h'\n",
    "    in the given list of filenames.\n",
    "    \n",
    "    Parameters:\n",
    "        filenames (list): A list of filenames.\n",
    "    \n",
    "    Returns:\n",
    "        list: A new list of filenames with \n",
    "        the extension changed from '.hpp' to '.h'.\n",
    "    \"\"\"\n",
    "    x = 0\n",
    "    to_check = '.hpp'\n",
    "    newfilenames = []\n",
    "    \n",
    "    for file in filenames:\n",
    "        \n",
    "        if to_check in file:\n",
    "            x = file.split(\".\")\n",
    "            y = x[0] + \".h\"\n",
    "            newfilenames.append(y)\n",
    "        \n",
    "        else:\n",
    "            newfilenames.append(file)\n",
    "    \n",
    "    return newfilenames\n"
   ]
  },
  {
   "cell_type": "code",
   "execution_count": 6,
   "id": "b7df8c67",
   "metadata": {},
   "outputs": [
    {
     "name": "stdout",
     "output_type": "stream",
     "text": [
      "Run 1\n",
      "Input list: ['program.c', 'stdio.hpp', 'sample.hpp', 'a.out', 'math.hpp', 'hpp.out']\n",
      "Output list: ['program.c', 'stdio.h', 'sample.h', 'a.out', 'math.h', 'hpp.out']\n"
     ]
    }
   ],
   "source": [
    "filenames = [\"program.c\", \"stdio.hpp\", \"sample.hpp\", \"a.out\", \"math.hpp\", \"hpp.out\"]\n",
    "\n",
    "# Should be [\"program.c\", \"stdio.h\", \"sample.h\", \"a.out\", \"math.h\", \"hpp.out\"]\n",
    "print(\"Run 1\")\n",
    "print(\"Input list: {}\".format(filenames))\n",
    "print(\"Output list: {}\".format(change_filename(filenames)))\n"
   ]
  },
  {
   "cell_type": "markdown",
   "id": "0e1bd7c0",
   "metadata": {},
   "source": [
    "---"
   ]
  },
  {
   "cell_type": "markdown",
   "id": "ad2fef93",
   "metadata": {},
   "source": [
    "### Program 4\n",
    "---\n",
    "\n",
    "Write a function called `pig_latin()` that takes a string as input and returns the pig latin version of the string. The function should perform the following steps:\n",
    "\n",
    "- Convert the string to a list of words using the split() method.\n",
    "- For each word in the list, move the first letter to the end of the word and append \"ay\" to the end.\n",
    "- Join the list of words back into a single string using the join() method, with a space between each word.\n",
    "- Return the resulting pig latin string.\n",
    "\n",
    "**For example**, the input string \"Let's create pig latin\" should produce the output string \"et'sLay reatecay igpay atinlay\"."
   ]
  },
  {
   "cell_type": "code",
   "execution_count": 7,
   "id": "8bbe1cd7",
   "metadata": {},
   "outputs": [],
   "source": [
    "def pig_latin(text):\n",
    "    \n",
    "    \"\"\" \n",
    "    A function that converts texts into pig latin by moving the\n",
    "    first character of each word to the end and appending 'ay' to it.\n",
    "\n",
    "    Parameters:\n",
    "        text(str): The text to be converted into pig latin.\n",
    "\n",
    "    Returns:\n",
    "        str: The converted text in pig latin.\n",
    "    \"\"\"\n",
    "    \n",
    "    words = text.split(\" \")\n",
    "    say = []\n",
    "    \n",
    "    for word in words:\n",
    "        \n",
    "        first_char = word[0]\n",
    "        word_to_add = word[1:]\n",
    "        new_word = word_to_add + first_char + \"ay\"\n",
    "        say.append(new_word)\n",
    "    \n",
    "    saying = \" \".join(say)\n",
    "    return saying"
   ]
  },
  {
   "cell_type": "code",
   "execution_count": 8,
   "id": "555564f1",
   "metadata": {},
   "outputs": [
    {
     "name": "stdout",
     "output_type": "stream",
     "text": [
      "Run 1\n",
      "Input: hello how are you\n",
      "Output: ellohay owhay reaay ouyay\n",
      "\n",
      "\n",
      "Run 2\n",
      "Input: programming in python is fun\n",
      "Output: rogrammingpay niay ythonpay siay unfay\n"
     ]
    }
   ],
   "source": [
    "# Should be \"ellohay owhay reaay ouyay\"\n",
    "print(\"Run 1\")\n",
    "print(\"Input: {}\".format(\"hello how are you\"))\n",
    "print(\"Output: {}\".format(pig_latin(\"hello how are you\")),end=\"\\n\\n\\n\")\n",
    "\n",
    "# Should be \"rogrammingpay niay ythonpay siay unfay\"\n",
    "print(\"Run 2\")\n",
    "print(\"Input: {}\".format(\"programming in python is fun\"))\n",
    "print(\"Output: {}\".format(pig_latin(\"programming in python is fun\")))"
   ]
  },
  {
   "cell_type": "markdown",
   "id": "ec43aafc",
   "metadata": {},
   "source": [
    "---"
   ]
  },
  {
   "cell_type": "markdown",
   "id": "2ff8ef23",
   "metadata": {},
   "source": [
    "### Program 5\n",
    "---\n",
    "\n",
    "Write a Python function `group_list` that accepts two parameters:\n",
    "\n",
    "    group_name: A string representing the name of the group.\n",
    "    members: A list containing the members of the group.\n",
    "\n",
    "The function should return a string in the format `\"group_name: member1, member2, ...\"` where each member is separated by a comma and a space.\n",
    "\n",
    "     For example, calling group_list(\"g\", [\"a\", \"b\", \"c\"]) should return the string \"g: a, b, c\".\n"
   ]
  },
  {
   "cell_type": "code",
   "execution_count": 9,
   "id": "03c59d1b",
   "metadata": {},
   "outputs": [],
   "source": [
    "def group_list(group, users):\n",
    "    \"\"\"\n",
    "    Returns a string with the format \"group_name: member1, member2, ...\"\n",
    "    \n",
    "    Parameters:\n",
    "        group (str): The name of the group\n",
    "        users (list): A list of members\n",
    "    \n",
    "    Returns:\n",
    "        str: A string with the format \"group_name: member1, member2, ...\"\n",
    "    \"\"\"\n",
    "    \n",
    "    members = users\n",
    "    member_list = []\n",
    "    x = len(members)\n",
    "    group_stat = group + \": \"\n",
    "    \n",
    "    for y in range(x):\n",
    "        j = members[y]\n",
    "        member_list.append(j)\n",
    "    \n",
    "    out_str = \", \".join(member_list)\n",
    "    final_list = group_stat + out_str\n",
    "    return final_list\n"
   ]
  },
  {
   "cell_type": "code",
   "execution_count": 10,
   "id": "0d42095f",
   "metadata": {},
   "outputs": [
    {
     "name": "stdout",
     "output_type": "stream",
     "text": [
      "Run 1\n",
      "Output: Marketing: Mike, Karen, Jake, Tasha\n",
      "\n",
      "Run 2\n",
      "Engineering: Kim, Jay, Tom\n",
      "\n",
      "Run 3\n",
      "Users: \n"
     ]
    }
   ],
   "source": [
    "# Should be \"Marketing: Mike, Karen, Jake, Tasha\"\n",
    "print(\"Run 1\")\n",
    "print(\"Output: {}\".format(group_list(\"Marketing\", [\"Mike\", \"Karen\", \"Jake\", \"Tasha\"])),end=\"\\n\\n\")\n",
    "\n",
    "# Should be \"Engineering: Kim, Jay, Tom\"\n",
    "print(\"Run 2\")\n",
    "print(group_list(\"Engineering\", [\"Kim\", \"Jay\", \"Tom\"]),end=\"\\n\\n\")\n",
    "\n",
    "# Should be \"Users:\"\n",
    "print(\"Run 3\")\n",
    "print(group_list(\"Users\", \"\")) "
   ]
  },
  {
   "cell_type": "markdown",
   "id": "34ef317b",
   "metadata": {},
   "source": [
    "---"
   ]
  },
  {
   "cell_type": "markdown",
   "id": "49724a32",
   "metadata": {},
   "source": [
    "### Program 6\n",
    "---\n",
    "\n",
    "Write a function that reads in a list of tuples representing party guests, where each tuple contains the guest's name, age, and profession. The function should then print out a sentence for each guest in the format `\"Guest is X years old and works as __.\"` with the appropriate values inserted for name, age, and profession.\n",
    "\n",
    "For example, if the input list is `[('Ken', 30, \"Chef\"), (\"Pat\", 35, 'Lawyer'), ('Amanda', 25, \"Engineer\")]`, the function should output:\n",
    "\n",
    "    Ken is 30 years old and works as Chef.\n",
    "    Pat is 35 years old and works as Lawyer.\n",
    "    Amanda is 25 years old and works as Engineer."
   ]
  },
  {
   "cell_type": "code",
   "execution_count": 11,
   "id": "55e9c462",
   "metadata": {},
   "outputs": [],
   "source": [
    "def guest_list(guests):\n",
    "    \n",
    "    \"\"\" \n",
    "    Parameters:\n",
    "        guests: a list of tuples where each tuple contains the name,\n",
    "        age, and profession of a guest.\n",
    "\n",
    "    Returns:\n",
    "        None\n",
    "    \"\"\"\n",
    "    \n",
    "    for i in range(len(guests)):\n",
    "        \n",
    "        name, age, profession = guests[i]\n",
    "        print(\"{} is {} years old and works as {}\".format(name,age,profession))\n",
    "    \n",
    "    return None \n"
   ]
  },
  {
   "cell_type": "code",
   "execution_count": 12,
   "id": "239c3081",
   "metadata": {},
   "outputs": [
    {
     "name": "stdout",
     "output_type": "stream",
     "text": [
      "Ken is 30 years old and works as Chef\n",
      "Pat is 35 years old and works as Lawyer\n",
      "Amanda is 25 years old and works as Engineer\n"
     ]
    }
   ],
   "source": [
    "\n",
    "#Output should match:\n",
    "\n",
    "#Ken is 30 years old and works as Chef\n",
    "#Pat is 35 years old and works as Lawyer\n",
    "#Amanda is 25 years old and works as Engineer\n",
    "\n",
    "guest_list([('Ken', 30, \"Chef\"), (\"Pat\", 35, 'Lawyer'), ('Amanda', 25, \"Engineer\")])\n"
   ]
  },
  {
   "cell_type": "markdown",
   "id": "75e5a257",
   "metadata": {},
   "source": [
    "---"
   ]
  },
  {
   "cell_type": "markdown",
   "id": "8226119c",
   "metadata": {},
   "source": [
    "### Program 7\n",
    "---\n",
    "\n",
    "Write a function that takes a permission value in octal notation and returns a string representing the permissions in the symbolic notation.\n",
    "\n",
    "\n",
    "**Instructions**:\n",
    "\n",
    "- Define a function named `octal_to_symbolic(permission)` that takes one parameter:\n",
    "\n",
    "            permission: an integer value representing the permission in octal notation.\n",
    "\n",
    "- In the function, convert the octal permission value to a string using the built-in `str()` function, which returns a string representing the octal notation of the given integer.\n",
    "- Extract the last three characters from the string returned in step 2. These represent the permission values for others, group, and owner.\n",
    "- Create a dictionary that maps each permission value to its symbolic notation: `'4' to 'r', '2' to 'w', and '1' to 'x'`.\n",
    "- Using string slicing and dictionary lookups, convert each permission value to its corresponding symbolic notation.\n",
    "- Return a string that represents the permission in symbolic notation."
   ]
  },
  {
   "cell_type": "code",
   "execution_count": 13,
   "id": "2c261c31",
   "metadata": {},
   "outputs": [],
   "source": [
    "def octal_to_string(octal):\n",
    "    \n",
    "    \"\"\" \n",
    "    Convert an octal permission number to a string representation\n",
    "\n",
    "    Parameter:\n",
    "        octal (int): An octal number representing file permission bits\n",
    "\n",
    "    Returns:\n",
    "        str: A string representation of file permission bits\n",
    "    \n",
    "    \"\"\"\n",
    "\n",
    "    octal_in_str = str(octal)\n",
    "    permission_list = []\n",
    "    x = 1\n",
    "    j = 0\n",
    "\n",
    "    check_dict = {\"0\": \"---\", \"1\": \"--x\", \"2\": \"-w-\", \"3\": \"-wx\", \"4\": \"r--\", \"5\": \"r-x\", \"6\": \"rw-\", \"7\": \"rwx\"}\n",
    "\n",
    "    for characters in octal_in_str:\n",
    "        permission_list.append(check_dict[characters])\n",
    "    \n",
    "    output_str = \"\".join(permission_list)\n",
    "\n",
    "    return output_str"
   ]
  },
  {
   "cell_type": "code",
   "execution_count": 14,
   "id": "813894ae",
   "metadata": {},
   "outputs": [
    {
     "name": "stdout",
     "output_type": "stream",
     "text": [
      "Run 1\n",
      "rwxr-xr-x\n",
      "\n",
      "Run 2\n",
      "rw-r--r--\n",
      "\n",
      "Run 3\n",
      "rwxr-x---\n",
      "\n",
      "Run 4\n",
      "rw-------\n"
     ]
    }
   ],
   "source": [
    "\n",
    "# Should be rwxr-xr-x\n",
    "print(\"Run 1\")\n",
    "print(octal_to_string(755),end=\"\\n\\n\")\n",
    "\n",
    "# Should be rw-r--r--\n",
    "print(\"Run 2\")\n",
    "print(octal_to_string(644),end=\"\\n\\n\")\n",
    "\n",
    "# Should be rwxr-x---\n",
    "print(\"Run 3\")\n",
    "print(octal_to_string(750),end=\"\\n\\n\")\n",
    "\n",
    "# Should be rw-------\n",
    "print(\"Run 4\")\n",
    "print(octal_to_string(600))\n"
   ]
  },
  {
   "cell_type": "markdown",
   "id": "1a84759f",
   "metadata": {},
   "source": [
    "---"
   ]
  },
  {
   "cell_type": "markdown",
   "id": "c23c97fb",
   "metadata": {},
   "source": [
    "### Program 8\n",
    "---\n",
    "\n",
    "Write a Python function called `email_list` that takes one argument:\n",
    "\n",
    "    users: a dictionary where each key is a domain name (string), and each value is a list of usernames (strings) for that domain.\n",
    "\n",
    "\n",
    "The function should create and return a list of complete email addresses for all users in the dictionary, in the format `\"username@domain.com\"`. \n",
    "\n",
    "For example, if the input dictionary is:\n",
    "\n",
    "            {\n",
    "                'gmail' : ['diana.prince', 'bruce.wayne']\n",
    "                'yahoo' : ['clark.kent', 'lois.lane', 'peter.parker']\n",
    "\n",
    "            }\n",
    "\n",
    "The output list should be:\n",
    "\n",
    "            ['diana.prince@gmail.com', 'bruce.wayne@gmail.com', 'clark.kent@yahoo.com', 'lois.lane@yahoo.com', 'peter.parker@yahoo.com']"
   ]
  },
  {
   "cell_type": "code",
   "execution_count": 15,
   "id": "f4aa4bc1",
   "metadata": {},
   "outputs": [
    {
     "name": "stdout",
     "output_type": "stream",
     "text": [
      "Run 1\n",
      "['clark.kent@gmail.com', 'diana.prince@gmail.com', 'peter.parker@gmail.com', 'barbara.gordon@yahoo.com', 'jean.grey@yahoo.com', 'bruce.wayne@hotmail.com']\n"
     ]
    }
   ],
   "source": [
    "def email_list(domains):\n",
    "    \n",
    "    \"\"\" \n",
    "    Parameters:\n",
    "        domains (dict): A dictionary containing domain names as keys \n",
    "                 and a list of users as values\n",
    " \n",
    "    Returns:\n",
    "        emails (list): A list of complete email addresses for all the \n",
    "        users in the input dictionary\n",
    "    \n",
    "    \"\"\"\n",
    "    emails = []\n",
    "\n",
    "    for domain in domains.keys():\n",
    "        for user in domains[domain]:\n",
    "            x = user + \"@\" + domain\n",
    "            emails.append(x)\n",
    "    return(emails)\n",
    "\n",
    "print(\"Run 1\")\n",
    "print(email_list({\"gmail.com\": [\"clark.kent\", \"diana.prince\", \"peter.parker\"], \"yahoo.com\": [\"barbara.gordon\", \"jean.grey\"], \"hotmail.com\": [\"bruce.wayne\"]}))"
   ]
  },
  {
   "cell_type": "markdown",
   "id": "a9fbbc37",
   "metadata": {},
   "source": [
    "---"
   ]
  },
  {
   "cell_type": "markdown",
   "id": "198ec462",
   "metadata": {},
   "source": [
    "### Program 9\n",
    "---\n",
    "\n",
    "Write a function named `add_prices` that returns the total price of all the groceries in the dictionary."
   ]
  },
  {
   "cell_type": "code",
   "execution_count": 16,
   "id": "bef560d6",
   "metadata": {},
   "outputs": [
    {
     "name": "stdout",
     "output_type": "stream",
     "text": [
      "Run 1\n",
      "28.44\n"
     ]
    }
   ],
   "source": [
    "def add_prices(basket):\n",
    "    \n",
    "    \"\"\"\n",
    "    Parameters:\n",
    "        basket (dict): A dictionary containing the name of\n",
    "        items as keys and their prices as values.\n",
    "        \n",
    "    Returns:\n",
    "        The total price of all the items in the basket.\n",
    "    \"\"\"\n",
    "\n",
    "    total = 0\n",
    "\n",
    "    total = sum(list(basket.values()))\n",
    "\n",
    "    return round(total,2)\n",
    "\n",
    "groceries = {\"bananas\": 1.56, \"apples\": 2.50, \"oranges\": 0.99, \"bread\": 4.59, \n",
    "\"coffee\": 6.99, \"milk\": 3.39, \"eggs\": 2.98, \"cheese\": 5.44}\n",
    "\n",
    "# Should print 28.44\n",
    "print(\"Run 1\")\n",
    "print(add_prices(groceries)) \n"
   ]
  },
  {
   "cell_type": "markdown",
   "id": "281555c9",
   "metadata": {},
   "source": [
    "---"
   ]
  },
  {
   "cell_type": "markdown",
   "id": "ca8244c3",
   "metadata": {},
   "source": [
    "\n",
    "### Program 10\n",
    "---\n",
    "\n",
    "You are tasked to implement a function called `format_address(address)` that separates out parts of the `address string` into `new strings: house_number and street_name`, and returns:\n",
    "\n",
    "            `\"house number X on street named Y\"`. \n",
    "\n",
    "The format of the input string is: numeric house number, followed by the street name which may contain numbers, but never by themselves, and could be several words long. \n",
    "\n",
    "**For example**:\n",
    "\n",
    "            \"123 Main Street\", \"1001 1st Ave\", or \"55 North Center Drive\".\n",
    "\n",
    "\n",
    "The function should take in one parameter:\n",
    "\n",
    "- `a string address` representing the address to be formatted."
   ]
  },
  {
   "cell_type": "code",
   "execution_count": 17,
   "id": "43042abb",
   "metadata": {},
   "outputs": [],
   "source": [
    "def format_address(address_string):\n",
    "    \"\"\" \n",
    "    Parameters:\n",
    "        address_string (str): A string representing the address\n",
    "        with a numerica house number followed by the street name\n",
    "\n",
    "    Returns:\n",
    "        A formatted string containing the house number and\n",
    "        the street name separated by the words \n",
    "        \"on street named\". \n",
    "    \"\"\"\n",
    "\n",
    "    list1 = address_string.split(\" \")\n",
    "    house_number = list1[0]\n",
    "    list1.pop(0)\n",
    "    street_number = \" \".join(list1)\n",
    "    address_str = \"house number {} on street named {}\".format(house_number,street_number)\n",
    "    return address_str\n",
    "\n"
   ]
  },
  {
   "cell_type": "code",
   "execution_count": 18,
   "id": "eb0693e9",
   "metadata": {},
   "outputs": [
    {
     "name": "stdout",
     "output_type": "stream",
     "text": [
      "Run 1\n",
      "Output Returned: house number 123 on street named Main Street\n",
      "\n",
      "Run 2\n",
      "house number 1001 on street named 1st Ave\n",
      "\n",
      "Run 3\n",
      "house number 55 on street named North Center Drive\n"
     ]
    }
   ],
   "source": [
    "# Should print: \"house number 123 on street named Main Street\"\n",
    "print(\"Run 1\")\n",
    "print(\"Output Returned: {}\".format(format_address(\"123 Main Street\")),end=\"\\n\\n\")\n",
    "\n",
    "# Should print: \"house number 1001 on street named 1st Ave\"\n",
    "print(\"Run 2\")\n",
    "print(format_address(\"1001 1st Ave\"),end=\"\\n\\n\")\n",
    "\n",
    "# Should print \"house number 55 on street named North Center Drive\"\n",
    "print(\"Run 3\")\n",
    "print(format_address(\"55 North Center Drive\"))\n"
   ]
  },
  {
   "cell_type": "markdown",
   "id": "aadd2150",
   "metadata": {},
   "source": [
    "---"
   ]
  },
  {
   "cell_type": "markdown",
   "id": "7f426383",
   "metadata": {},
   "source": [
    "### Program 11\n",
    "---\n",
    "\n",
    "The function `replace_domain` takes an `email` address, an `old_domain`, and a `new_domain` as arguments. If the email address contains the `old_domain`, the function replaces it with the `new_domain` and returns the updated email address. If the email address does not contain the `old_domain`, the function simply returns the original email address.\n",
    "\n",
    "\n",
    "\n"
   ]
  },
  {
   "cell_type": "code",
   "execution_count": 19,
   "id": "bcad98d6",
   "metadata": {},
   "outputs": [],
   "source": [
    "def replace_domain(email,old_domain,new_domain):\n",
    "    \"\"\"\n",
    "    Parameters:\n",
    "        email (str): The email address to modify\n",
    "        old_domain (str): The domain to replace in the email address\n",
    "        new_domain (str): The new domain to replace the old domain with\n",
    "        \n",
    "    Returns:\n",
    "        str: The modified email address with the new domain\n",
    "    \"\"\"\n",
    "\n",
    "    if \"@\" + old_domain in email:\n",
    "        index = email.index(\"@\")\n",
    "        new_email = email[:index] + \"@\" + new_domain\n",
    "        return new_email\n",
    "    \n",
    "    return email\n"
   ]
  },
  {
   "cell_type": "code",
   "execution_count": 20,
   "id": "daef6b42",
   "metadata": {},
   "outputs": [
    {
     "name": "stdout",
     "output_type": "stream",
     "text": [
      "Run 1\n",
      "viktor_pal17@google.com\n",
      "\n",
      "Run 2\n",
      "jesse_roy@gmail.com\n",
      "\n"
     ]
    }
   ],
   "source": [
    "print(\"Run 1\")\n",
    "print(replace_domain(\"viktor_pal17@yahoo.com\",\"yahoo.com\",\"google.com\"),end=\"\\n\\n\")\n",
    "\n",
    "print(\"Run 2\")\n",
    "print(replace_domain(\"jesse_roy@google.com\",\"google.com\",\"gmail.com\"),end=\"\\n\\n\")"
   ]
  },
  {
   "cell_type": "markdown",
   "id": "ece38e67",
   "metadata": {},
   "source": [
    "---"
   ]
  },
  {
   "cell_type": "markdown",
   "id": "b757cb41",
   "metadata": {},
   "source": [
    "### Program 12\n",
    "---\n",
    "\n",
    "You are given three lists: `drews_list`, `jamies_list`, and `professors_list`. drews_list and jamies_list contain the names of the students in the order they arrived in the classroom. The professor needs to combine drews_list and jamies_list into one list in the order that the students arrived.\n",
    "\n",
    "However, Jamie's list is in reverse order, so you need to reverse it before combining it with Drew's list. Write a function named `combine_lists` to take in the two lists and return the combined list in the correct order.\n",
    "\n",
    "**Function signature**: `def combine_lists(drews_list, jamies_list)`\n",
    "\n",
    "**Input**:\n",
    "\n",
    "- drews_list (list): A list of strings containing the names of students in the order they arrived in the classroom. Length is n.\n",
    "\n",
    "- jamies_list (list): A list of strings containing the names of students in reverse order that Jamie noted. Length is m.\n",
    "\n",
    "**Output**:\n",
    "\n",
    "- Returns a list of strings containing the names of students in the order they arrived in the classroom. The length of the combined list should be n + m.\n"
   ]
  },
  {
   "cell_type": "code",
   "execution_count": 21,
   "id": "5d86aac3",
   "metadata": {},
   "outputs": [],
   "source": [
    "def combine_lists(list1,list2):\n",
    "    \"\"\" \n",
    "    Parameters:\n",
    "        list1 (list): A list of strings containing the name of students in\n",
    "                      the reverse order that Jamie noted\n",
    "        list2 (list): A list of strings containing the name of students in \n",
    "                      the order they arrived in the classroom\n",
    "\n",
    "    Return:\n",
    "        final_list (list): A list of strings containing the names of students \n",
    "                            in the order they arrived in the classroom.\n",
    "    \"\"\"\n",
    "\n",
    "    first_list = list2\n",
    "    second_list = []\n",
    "    length_list1 = len(list1)\n",
    "    count = -1\n",
    "\n",
    "    for index in range(length_list1):\n",
    "\n",
    "        student_name = list1[count]\n",
    "        second_list.append(student_name)\n",
    "        count -= 1\n",
    "        if abs(count) > length_list1:\n",
    "            break\n",
    "    \n",
    "    final_list = first_list + second_list\n",
    "    return (final_list)\n"
   ]
  },
  {
   "cell_type": "code",
   "execution_count": 22,
   "id": "6829de7f",
   "metadata": {
    "scrolled": true
   },
   "outputs": [
    {
     "name": "stdout",
     "output_type": "stream",
     "text": [
      "Jamies' List: ['Alice', 'Cindy', 'Bobby', 'Jan', 'Peter']\n",
      "Drews' List: ['Mike', 'Carol', 'Greg', 'Marcia']\n",
      "\n",
      "\n",
      "Run 1\n",
      "Expected Output: ['Mike', 'Carol', 'Greg', 'Marcia', 'Peter', 'Jan', 'Bobby', 'Cindy', 'Alice']\n",
      "Output Returned: ['Mike', 'Carol', 'Greg', 'Marcia', 'Peter', 'Jan', 'Bobby', 'Cindy', 'Alice']\n"
     ]
    }
   ],
   "source": [
    "Jamies_list = [\"Alice\", \"Cindy\", \"Bobby\", \"Jan\", \"Peter\"]\n",
    "Drews_list = [\"Mike\", \"Carol\", \"Greg\", \"Marcia\"]\n",
    "\n",
    "print(\"Jamies' List: {}\".format(Jamies_list))\n",
    "print(\"Drews' List: {}\".format(Drews_list),end=\"\\n\\n\\n\")\n",
    "\n",
    "print(\"Run 1\")\n",
    "print(\"Expected Output: ['Mike', 'Carol', 'Greg', 'Marcia', 'Peter', 'Jan', 'Bobby', 'Cindy', 'Alice']\")\n",
    "print(\"Output Returned: {}\".format(combine_lists(Jamies_list, Drews_list)))"
   ]
  },
  {
   "cell_type": "markdown",
   "id": "e8e5c575",
   "metadata": {},
   "source": [
    "---"
   ]
  },
  {
   "cell_type": "markdown",
   "id": "57b1813c",
   "metadata": {},
   "source": [
    "### Program 13\n",
    "---\n",
    "\n",
    "\n",
    "You are tasked with combining two dictionaries, containing information about the guests attending a party hosted by Taylor and Rory. The two dictionaries are named `taylor_guests` and `rory_guests`.\n",
    "\n",
    "`taylor_guests` contains partial information about the guests attending the party, where the **key** is the `name of the guest` and the **value** is the `number of guests` the guest is bringing. `rory_guests` also contains similar information but with more current and updated data about the guests.\n",
    "\n",
    "Write the code to combine both dictionaries into one, with each friend listed only once, and the number of guests from `rory_guests` taking precedence, if a name is included in both dictionaries. Finally, print the resulting dictionary.\n",
    "\n",
    "**Note**\n",
    "- `taylor_guests` contains 2 guests for \"Alice\" while `rory_guests` contains ` guest for \"Alice\". Therefore, the combined dictionary contains \"Alice\" with 1 guest, taking the value from `rory_guests`."
   ]
  },
  {
   "cell_type": "code",
   "execution_count": 23,
   "id": "fe0f16fb",
   "metadata": {},
   "outputs": [],
   "source": [
    "def combine_guests(guests1,guests2):\n",
    "    \"\"\" \n",
    "    Parameters:\n",
    "        taylor_guests (dict): A dictionary with names of guests as keys and the\n",
    "                              number of guests each friend is bringing as values\n",
    "        rory_guests (dict): A dictionary with names of guests as keys and the\n",
    "                            number of guests each friend is bringing as values\n",
    "\n",
    "    Returns:\n",
    "        A dictionary with each friend listed only once, and the number of guests\n",
    "        rory_guests taking precedence, if a name is included in both dictionaries\n",
    "    \"\"\"\n",
    "    \n",
    "    # guests1 represents Rory's list\n",
    "    # guests2 represents Taylor's list\n",
    "\n",
    "    final_dict = {}\n",
    "    r_guestlist = list(guests1.keys())\n",
    "    t_guestlist = list(guests2.keys())\n",
    "    actual_guestlist = r_guestlist + t_guestlist\n",
    "    \n",
    "    for names in actual_guestlist:\n",
    "\n",
    "        if names in guests1:\n",
    "            peeps_they_bring = guests1[names]\n",
    "            final_dict[names] = peeps_they_bring\n",
    "        \n",
    "        elif names in guests2:\n",
    "            peeps_they_bring = guests2[names]\n",
    "            final_dict[names] = peeps_they_bring\n",
    "        \n",
    "        if names in t_guestlist and names in r_guestlist:\n",
    "            b = guests1[names]\n",
    "            final_dict[names] = b\n",
    "    \n",
    "    return final_dict"
   ]
  },
  {
   "cell_type": "code",
   "execution_count": 24,
   "id": "26a260fc",
   "metadata": {},
   "outputs": [
    {
     "name": "stdout",
     "output_type": "stream",
     "text": [
      "Rory's Guest List: {'Adam': 2, 'Brenda': 3, 'David': 1, 'Jose': 3, 'Charlotte': 2, 'Terry': 1, 'Robert': 4}\n",
      "Taylor's Guest List: {'David': 4, 'Nancy': 1, 'Robert': 2, 'Adam': 1, 'Samantha': 3, 'Chris': 5}\n",
      "\n",
      "\n",
      "Run 1\n",
      "{'Adam': 2, 'Brenda': 3, 'David': 1, 'Jose': 3, 'Charlotte': 2, 'Terry': 1, 'Robert': 4, 'Nancy': 1, 'Samantha': 3, 'Chris': 5}\n"
     ]
    }
   ],
   "source": [
    "\n",
    "    \n",
    "Rorys_guests = { \"Adam\":2, \"Brenda\":3, \"David\":1, \"Jose\":3, \"Charlotte\":2, \"Terry\":1, \"Robert\":4}\n",
    "Taylors_guests = { \"David\":4, \"Nancy\":1, \"Robert\":2, \"Adam\":1, \"Samantha\":3, \"Chris\":5}\n",
    "\n",
    "print(\"Rory's Guest List: {}\".format(Rorys_guests))\n",
    "print(\"Taylor's Guest List: {}\".format(Taylors_guests),end=\"\\n\\n\\n\")\n",
    "\n",
    "print(\"Run 1\")\n",
    "print(combine_guests(Rorys_guests, Taylors_guests))\n"
   ]
  },
  {
   "cell_type": "markdown",
   "id": "e352fc27",
   "metadata": {},
   "source": [
    "---"
   ]
  },
  {
   "cell_type": "markdown",
   "id": "7aedd942",
   "metadata": {},
   "source": [
    "### Program 14\n",
    "---\n",
    "\n",
    "You are given an input string, and your task is to write a function `count_letters(string)` to count the frequency of letters in the input string. The output should be a dictionary where the keys are the lowercase letters that appear in the string, and the values are the frequency of those letters.\n",
    "\n",
    "**Note**:\n",
    "\n",
    "- Only letters should be counted, not blank spaces, numbers, or punctuation.\n",
    "- Upper case should be considered the same as lower case."
   ]
  },
  {
   "cell_type": "code",
   "execution_count": 25,
   "id": "495dae1c",
   "metadata": {},
   "outputs": [],
   "source": [
    "def count_letters(text):\n",
    "    \"\"\" \n",
    "    Parameters:\n",
    "        text (str): A string of length n containing letters, blank spaces,\n",
    "        numbers and punctuation\n",
    "            \n",
    "    Return:\n",
    "        A dictionary where the keys are lowercase letters that appear \n",
    "        in the input string, and the values are the frequency of\n",
    "        those letters.\n",
    "    \"\"\"\n",
    "    \n",
    "    result = {}\n",
    "    text_lower = text.lower()\n",
    "    text_in_list = text_lower.split()\n",
    "    \n",
    "    for words in text_in_list:\n",
    "        \n",
    "        for letter in words:\n",
    "            \n",
    "            if letter.isalpha():\n",
    "                count = 1\n",
    "                \n",
    "                if letter not in result:\n",
    "                    result[letter] = count\n",
    "                \n",
    "                else:\n",
    "                    character = result[letter]\n",
    "                    count = character + 1\n",
    "                    result[letter] = count\n",
    "    return result"
   ]
  },
  {
   "cell_type": "code",
   "execution_count": 26,
   "id": "352f836e",
   "metadata": {
    "scrolled": true
   },
   "outputs": [
    {
     "name": "stdout",
     "output_type": "stream",
     "text": [
      "Run 1\n",
      "Output: {'a': 2, 'b': 2, 'c': 2}\n",
      "\n",
      "Run 2\n",
      "Output: {'m': 1, 'a': 1, 't': 1, 'h': 1, 'i': 1, 's': 1, 'f': 1, 'u': 1, 'n': 1}\n",
      "\n",
      "Run 3\n",
      "Output: {'t': 2, 'h': 1, 'i': 2, 's': 3, 'a': 1, 'e': 3, 'n': 2, 'c': 1}\n",
      "\n"
     ]
    }
   ],
   "source": [
    "# Should be {'a': 2, 'b': 2, 'c': 2}\n",
    "print(\"Run 1\")\n",
    "print(\"Output: {}\".format(count_letters(\"AaBbCc\")),end=\"\\n\\n\")\n",
    "\n",
    "\n",
    "# Should be {'m': 1, 'a': 1, 't': 1, 'h': 1, 'i': 1, 's': 1, 'f': 1, 'u': 1, 'n': 1}\n",
    "print(\"Run 2\")\n",
    "print(\"Output: {}\".format(count_letters(\"Math is fun! 2+2=4\")),end=\"\\n\\n\")\n",
    "\n",
    "# Should be {'t': 2, 'h': 1, 'i': 2, 's': 3, 'a': 1, 'e': 3, 'n': 2, 'c': 1}\n",
    "print(\"Run 3\")\n",
    "print(\"Output: {}\".format(count_letters(\"This is a sentence.\")),end=\"\\n\\n\")\n"
   ]
  },
  {
   "cell_type": "markdown",
   "id": "29518814",
   "metadata": {},
   "source": [
    "---"
   ]
  },
  {
   "cell_type": "markdown",
   "id": "ab4ba2b0",
   "metadata": {},
   "source": [
    "### Program 15\n",
    "---\n",
    "\n",
    "Using the format method, complete the `convert_distance` function so that it returns the phrase \"X miles equals Y km\", with Y having only 1 decimal place. \n",
    "\n",
    "**For example**, convert_distance(12) should return \"12 miles equals 19.2 km\"."
   ]
  },
  {
   "cell_type": "code",
   "execution_count": 27,
   "id": "77305cf9",
   "metadata": {},
   "outputs": [],
   "source": [
    "def convert_distance(miles):\n",
    "    km = miles * 1.6 \n",
    "    result = \"{} miles equals {:.1f} km\".format(miles,km)\n",
    "    return result"
   ]
  },
  {
   "cell_type": "code",
   "execution_count": 28,
   "id": "160cea4e",
   "metadata": {},
   "outputs": [
    {
     "name": "stdout",
     "output_type": "stream",
     "text": [
      "Run 1\n",
      "12 miles equals 19.2 km\n",
      "\n",
      "Run 2\n",
      "5.5 miles equals 8.8 km\n",
      "\n",
      "Run 3\n",
      "11 miles equals 17.6 km\n",
      "\n"
     ]
    }
   ],
   "source": [
    "# Should be: 12 miles equals 19.2 km\n",
    "print(\"Run 1\")\n",
    "print(convert_distance(12),end=\"\\n\\n\")\n",
    "\n",
    "\n",
    "# Should be: 5.5 miles equals 8.8 km\n",
    "print(\"Run 2\")\n",
    "print(convert_distance(5.5),end=\"\\n\\n\")\n",
    "\n",
    "\n",
    "# Should be: 11 miles equals 17.6 km\n",
    "print(\"Run 3\")\n",
    "print(convert_distance(11),end=\"\\n\\n\")"
   ]
  },
  {
   "cell_type": "markdown",
   "id": "496d8d5a",
   "metadata": {},
   "source": [
    "---"
   ]
  },
  {
   "cell_type": "markdown",
   "id": "4555eb81",
   "metadata": {},
   "source": [
    "### Program 16\n",
    "---\n",
    "\n",
    "Complete the `nametag` function so that it uses the format method to return `first_name` and the first initial of `last_name` followed by a period. \n",
    "\n",
    "\n",
    "**For example**, nametag(\"Jane\", \"Smith\") should return \"Jane S.\"\n",
    "\n"
   ]
  },
  {
   "cell_type": "code",
   "execution_count": 29,
   "id": "9d1aabd0",
   "metadata": {},
   "outputs": [],
   "source": [
    "def nametag(first_name, last_name):\n",
    "    x = last_name[0]\n",
    "    return(\"{} {}.\".format(first_name,x))"
   ]
  },
  {
   "cell_type": "code",
   "execution_count": 30,
   "id": "251932c4",
   "metadata": {},
   "outputs": [
    {
     "name": "stdout",
     "output_type": "stream",
     "text": [
      "Run 1\n",
      "Jane S.\n",
      "\n",
      "Run 2\n",
      "Francesco R.\n",
      "\n",
      "Run 3\n",
      "Jean-Luc G.\n",
      "\n"
     ]
    }
   ],
   "source": [
    "# Should display \"Jane S.\"\n",
    "print(\"Run 1\")\n",
    "print(nametag(\"Jane\", \"Smith\"),end=\"\\n\\n\") \n",
    "\n",
    "\n",
    "# Should display \"Francesco R.\"\n",
    "print(\"Run 2\")\n",
    "print(nametag(\"Francesco\", \"Rinaldi\"),end=\"\\n\\n\") \n",
    "\n",
    "\n",
    "# Should display \"Jean-Luc G.\"\n",
    "print(\"Run 3\")\n",
    "print(nametag(\"Jean-Luc\", \"Grand-Pierre\"),end=\"\\n\\n\") \n"
   ]
  },
  {
   "cell_type": "markdown",
   "id": "e445260f",
   "metadata": {},
   "source": [
    "---"
   ]
  }
 ],
 "metadata": {
  "kernelspec": {
   "display_name": "Python 3 (ipykernel)",
   "language": "python",
   "name": "python3"
  },
  "language_info": {
   "codemirror_mode": {
    "name": "ipython",
    "version": 3
   },
   "file_extension": ".py",
   "mimetype": "text/x-python",
   "name": "python",
   "nbconvert_exporter": "python",
   "pygments_lexer": "ipython3",
   "version": "3.9.12"
  }
 },
 "nbformat": 4,
 "nbformat_minor": 5
}
