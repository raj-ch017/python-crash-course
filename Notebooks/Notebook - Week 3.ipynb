{
 "cells": [
  {
   "cell_type": "markdown",
   "id": "60b0f93d",
   "metadata": {},
   "source": [
    "# Week 3 Notebook\n",
    "\n",
    "## Author: @raj-ch017\n",
    "---\n",
    "\n",
    "Programs on Loops and Recursion."
   ]
  },
  {
   "cell_type": "markdown",
   "id": "7c6f1c05",
   "metadata": {},
   "source": [
    "### Program 1\n",
    "---\n",
    "\n",
    "- The `squares` function takes a number `n` as input and returns the square of that number.\n",
    "\n",
    "- The `sum_squares` function takes a number `x` as input. It initializes a variable `input` to be equal to `x` and initializes two more variables `sum` and `num` to 0.\n",
    "\n",
    "- The function then enters a while loop that continues until `num` is less than `input`. \n",
    "\n",
    "- In each iteration of the loop, the function calls the `squares` function with `num` as input and adds the result to the `sum` variable. It also prints the current value of `num`. Finally, it increments `num` by 1.\n",
    "\n",
    "- Once the loop has finished, the function returns the final value of \"sum\", which is the sum of squares from 0 to (x-1).\n"
   ]
  },
  {
   "cell_type": "code",
   "execution_count": 1,
   "id": "4914a84e",
   "metadata": {},
   "outputs": [],
   "source": [
    "def squares(n):\n",
    "    \"\"\"\n",
    "    Parameters:\n",
    "        n (int): Input number, the base\n",
    "        \n",
    "    Returns:\n",
    "        n**2 (int): Square of the base\n",
    "    \"\"\"\n",
    "    return n**2\n",
    "\n",
    "\n",
    "def sum_squares(x):\n",
    "    \"\"\"\n",
    "    Parameters:\n",
    "        x (int): The upper limit (exclusive) of the range of numbers\n",
    "        \n",
    "    Returns:\n",
    "        int: The sum of squares from 0 to (x-1)\n",
    "    \"\"\"\n",
    "    \n",
    "    input = x\n",
    "    sum = 0\n",
    "    num = 0\n",
    "    \n",
    "    while num < input:\n",
    "    \n",
    "        a = squares(num)\n",
    "        sum += a\n",
    "        #print(\"Loop run number: \" + str(num))\n",
    "        num += 1\n",
    "    \n",
    "    return sum\n"
   ]
  },
  {
   "cell_type": "code",
   "execution_count": 2,
   "id": "99803f15",
   "metadata": {
    "scrolled": true
   },
   "outputs": [
    {
     "name": "stdout",
     "output_type": "stream",
     "text": [
      "Run 1\n",
      "30\n",
      "\n",
      "Run 2\n",
      "285\n",
      "\n",
      "Run 3\n",
      "4900\n",
      "\n"
     ]
    }
   ],
   "source": [
    "print(\"Run 1\")\n",
    "print(sum_squares(5),end=\"\\n\\n\")\n",
    "\n",
    "print(\"Run 2\")\n",
    "print(sum_squares(10),end=\"\\n\\n\")\n",
    "\n",
    "\n",
    "print(\"Run 3\")\n",
    "print(sum_squares(25),end=\"\\n\\n\")"
   ]
  },
  {
   "cell_type": "markdown",
   "id": "ab087c4e",
   "metadata": {},
   "source": [
    "---"
   ]
  },
  {
   "cell_type": "markdown",
   "id": "6741200f",
   "metadata": {},
   "source": [
    "### Program 2\n",
    "---\n",
    "\n",
    "The function `print_prime_factors` takes a single argument called `number`. The function finds all prime factors of the number and prints them in order. \n",
    "\n",
    "It starts with the first prime factor which is 2, and continues to check each consecutive factor to see if it is a divisor of number. If it is, then it prints the factor and divides the number by that factor. If it's not a divisor, it increments the factor by one and checks the next number. This process is repeated until the factor is greater than the number. Finally, the function returns a string \"Done\". \n",
    "\n",
    "**An example** usage of the function is shown at the bottom, where it's called with argument 100 and prints the prime factors 2, 2, 5, and 5."
   ]
  },
  {
   "cell_type": "code",
   "execution_count": 3,
   "id": "c5fca6a3",
   "metadata": {},
   "outputs": [],
   "source": [
    "def print_prime_factors(number):\n",
    "    \"\"\"\n",
    "    Parameters:\n",
    "        number (int): A positive integer for which to\n",
    "        find the prime factors\n",
    "        \n",
    "    Returns:\n",
    "        str: A message indicating the function has finished\n",
    "        execution\n",
    "    \"\"\"\n",
    "    \n",
    "    factor = 2\n",
    "    \n",
    "    while factor <= number:\n",
    "        \n",
    "        if number % factor == 0:\n",
    "            \n",
    "            print(factor)\n",
    "            \n",
    "            number = number / factor\n",
    "            \n",
    "        else:\n",
    "                        \n",
    "            factor += 1\n",
    "            \n",
    "    print(\"\\n\",\"Done\\n\\n\")"
   ]
  },
  {
   "cell_type": "code",
   "execution_count": 4,
   "id": "01879423",
   "metadata": {},
   "outputs": [
    {
     "name": "stdout",
     "output_type": "stream",
     "text": [
      "Run 1 | Input: 100\n",
      "2\n",
      "2\n",
      "5\n",
      "5\n",
      "\n",
      " Done\n",
      "\n",
      "\n",
      "Run 2 | Input: 125\n",
      "5\n",
      "5\n",
      "5\n",
      "\n",
      " Done\n",
      "\n",
      "\n",
      "Run 3 | Input: 540\n",
      "2\n",
      "2\n",
      "3\n",
      "3\n",
      "3\n",
      "5\n",
      "\n",
      " Done\n",
      "\n",
      "\n"
     ]
    }
   ],
   "source": [
    "# Should print 2, 2, 5 and 5    \n",
    "print(\"Run 1 | Input: 100\")\n",
    "print_prime_factors(100)\n",
    "\n",
    "# Should print 5, 5, 5\n",
    "print(\"Run 2 | Input: 125\")\n",
    "print_prime_factors(125)\n",
    "\n",
    "# Should print 2, 2, 3, 3, 3, 5\n",
    "print(\"Run 3 | Input: 540\")\n",
    "print_prime_factors(540)"
   ]
  },
  {
   "cell_type": "markdown",
   "id": "897abe2d",
   "metadata": {},
   "source": [
    "---"
   ]
  },
  {
   "cell_type": "markdown",
   "id": "45d54d81",
   "metadata": {},
   "source": [
    "### Program 3\n",
    "---\n",
    "\n",
    "The function `is_power_of_two` takes a single argument `in_num`. The function checks if `in_num` is a power of two by continuously dividing it by 2 as long as the result is an even number. \n",
    "\n",
    "If the final result is 1, then the original number was a power of two, and the function returns `True`. If the final result is not 1, then the original number was not a power of two, and the function returns `False`. If the initial value of `in_num` is 0, the function returns `False` without executing the while loop."
   ]
  },
  {
   "cell_type": "code",
   "execution_count": 5,
   "id": "edfbf834",
   "metadata": {},
   "outputs": [],
   "source": [
    "def is_power_of_two(in_num):\n",
    "    \"\"\" \n",
    "    Parameters:\n",
    "        in_num (int): The number to be checked\n",
    "        \n",
    "    Returns:\n",
    "        bool: True if in_num is a power of two,\n",
    "              False otherwise   \n",
    "    \"\"\"\n",
    "    \n",
    "    \n",
    "    while (in_num != 0) and (in_num % 2 == 0):\n",
    "        in_num = in_num / 2\n",
    "        \n",
    "    if in_num == 1:\n",
    "        return True\n",
    "    \n",
    "    return False"
   ]
  },
  {
   "cell_type": "code",
   "execution_count": 6,
   "id": "33d6ecb9",
   "metadata": {},
   "outputs": [
    {
     "name": "stdout",
     "output_type": "stream",
     "text": [
      "Run 1\n",
      "False\n",
      "\n",
      "Run 2\n",
      "True\n",
      "\n",
      "Run 3\n",
      "True\n",
      "\n",
      "Run 4\n",
      "False\n",
      "\n"
     ]
    }
   ],
   "source": [
    "# Should be False\n",
    "print(\"Run 1\")\n",
    "print(is_power_of_two(0),end=\"\\n\\n\")\n",
    "\n",
    "# Should be True\n",
    "print(\"Run 2\")\n",
    "print(is_power_of_two(1),end=\"\\n\\n\") \n",
    "\n",
    "# Should be True\n",
    "print(\"Run 3\")\n",
    "print(is_power_of_two(8),end=\"\\n\\n\")\n",
    "\n",
    "# Should be False\n",
    "print(\"Run 4\")\n",
    "print(is_power_of_two(9),end=\"\\n\\n\") "
   ]
  },
  {
   "cell_type": "markdown",
   "id": "46f7d18c",
   "metadata": {},
   "source": [
    "---"
   ]
  },
  {
   "cell_type": "markdown",
   "id": "fc3fea5d",
   "metadata": {},
   "source": [
    "### Program 4\n",
    "---\n",
    "\n",
    "The function `sum_divisors` takes a single integer argument `input_num`. The function computes the sum of all divisors of `input_num`, excluding `input_num` itself. \n",
    "\n",
    "It starts by initializing a variable `sum` to 0 and a variable `div` to 1. Then, it enters a while loop that continues as long as `div` is less than `input_num`. Inside the loop, the function checks whether `input_num` is divisible by `div`. If it is, then the value of `div` is added to the `sum` variable, and `div` is incremented by 1. Otherwise, `div` is simply incremented by 1. Finally, the function returns the value of `sum`."
   ]
  },
  {
   "cell_type": "code",
   "execution_count": 7,
   "id": "d0011c9c",
   "metadata": {
    "scrolled": true
   },
   "outputs": [],
   "source": [
    "def sum_divisors(input_num):\n",
    "    \"\"\" \n",
    "    Parameters:\n",
    "        input_num (int): A positive integer\n",
    "        \n",
    "    Returns:\n",
    "        An integer representing the sum of all\n",
    "        positive divisors of the input number\n",
    "    \"\"\"\n",
    "    \n",
    "    sum = 0\n",
    "    div = 1\n",
    "    \n",
    "    while div < input_num:\n",
    "        \n",
    "        if (input_num % div == 0):\n",
    "            \n",
    "            sum += div\n",
    "            div += 1\n",
    "            \n",
    "        else:\n",
    "            \n",
    "            div += 1\n",
    "            \n",
    "    return sum\n"
   ]
  },
  {
   "cell_type": "code",
   "execution_count": 8,
   "id": "29f8f3f3",
   "metadata": {},
   "outputs": [
    {
     "name": "stdout",
     "output_type": "stream",
     "text": [
      "Run 1\n",
      "0\n",
      "\n",
      "Run 2\n",
      "1\n",
      "\n",
      "Run 3\n",
      "55\n",
      "\n",
      "Run 4\n",
      "114\n",
      "\n"
     ]
    }
   ],
   "source": [
    "# Should return 0\n",
    "print(\"Run 1\")\n",
    "print(sum_divisors(0),end=\"\\n\\n\")\n",
    "\n",
    "# Should sum of 1 = 1\n",
    "print(\"Run 2\")\n",
    "print(sum_divisors(3),end=\"\\n\\n\") \n",
    "\n",
    "# Should sum of 1+2+3+4+6+9+12+18 = 55\n",
    "print(\"Run 3\")\n",
    "print(sum_divisors(36),end=\"\\n\\n\") \n",
    "\n",
    "# Should be sum of 2+3+6+17+34+51 = 114\n",
    "print(\"Run 4\")\n",
    "print(sum_divisors(102),end=\"\\n\\n\") \n"
   ]
  },
  {
   "cell_type": "markdown",
   "id": "875553de",
   "metadata": {},
   "source": [
    "---"
   ]
  },
  {
   "cell_type": "markdown",
   "id": "0451b0c5",
   "metadata": {},
   "source": [
    "### Program 5\n",
    "---\n",
    "\n",
    "`multiplication_table` takes a single argument `input_number`. It uses a while loop to print out a multiplication table for number up to 5 times. The loop calculates the result of multiplying number by multiplier and prints it out in a formatted string. \n",
    "\n",
    "The loop also checks if the result is greater than 25, and if it is, it breaks out of the loop."
   ]
  },
  {
   "cell_type": "code",
   "execution_count": 9,
   "id": "e68894d4",
   "metadata": {},
   "outputs": [],
   "source": [
    "def multiplication_table(input_number):\n",
    "    \"\"\" \n",
    "    Parameters:\n",
    "        input_number (int): An integer to generate\n",
    "        the multiplication table for.\n",
    "        \n",
    "    Returns:\n",
    "        None\n",
    "    \"\"\"\n",
    "        \n",
    "    multiplier = 1\n",
    "        \n",
    "    while multiplier <= 5:\n",
    "        \n",
    "        result = input_number * multiplier\n",
    "        \n",
    "        # Condition to exit out of the loop\n",
    "        \n",
    "        if result >= 25:\n",
    "            break\n",
    "            \n",
    "        print(str(input_number) + \" x \" + str(multiplier) + \" = \" + str(result))\n",
    "        \n",
    "        # increment the variable for the loop\n",
    "        \n",
    "        multiplier += 1\n",
    "        \n",
    "    print()"
   ]
  },
  {
   "cell_type": "code",
   "execution_count": 10,
   "id": "320b94f0",
   "metadata": {},
   "outputs": [
    {
     "name": "stdout",
     "output_type": "stream",
     "text": [
      "Run 1\n",
      "3 x 1 = 3\n",
      "3 x 2 = 6\n",
      "3 x 3 = 9\n",
      "3 x 4 = 12\n",
      "3 x 5 = 15\n",
      "\n",
      "Run 2\n",
      "5 x 1 = 5\n",
      "5 x 2 = 10\n",
      "5 x 3 = 15\n",
      "5 x 4 = 20\n",
      "\n",
      "Run 3\n",
      "8 x 1 = 8\n",
      "8 x 2 = 16\n",
      "8 x 3 = 24\n",
      "\n"
     ]
    }
   ],
   "source": [
    "# Should print: 3x1=3 3x2=6 3x3=9 3x4=12 3x5=15\n",
    "print(\"Run 1\")\n",
    "multiplication_table(3)\n",
    "\n",
    "# Should print: 5x1=5 5x2=10 5x3=15 5x4=20 5x5=25\n",
    "print(\"Run 2\")\n",
    "multiplication_table(5) \n",
    "\n",
    "# Should print: 8x1=8 8x2=16 8x3=24\n",
    "print(\"Run 3\")\n",
    "multiplication_table(8)\n"
   ]
  },
  {
   "cell_type": "markdown",
   "id": "739aaf97",
   "metadata": {},
   "source": [
    "---"
   ]
  },
  {
   "cell_type": "markdown",
   "id": "1786617b",
   "metadata": {},
   "source": [
    "### Program 6\n",
    "---\n",
    "\n",
    "Complete the `factorial` function so that it returns the factorial of the input integer `num`. Once the function is complete, print the first 10 factorials (from 0 to 9) along with their corresponding numbers. \n",
    "\n",
    "It's **important** to remember that the factorial of a number is calculated as the product of that number and all positive integers before it.\n",
    "\n",
    "**For instance**, the factorial of 5 (5!) is equal to 1* 2 * 3 * 4 * 5 = 120, and the factorial of 0 (0!) is 1."
   ]
  },
  {
   "cell_type": "code",
   "execution_count": 11,
   "id": "865ca17b",
   "metadata": {},
   "outputs": [],
   "source": [
    "def factorial(n):\n",
    "    \"\"\"\n",
    "    Calculates the factorial of a given integer.\n",
    "\n",
    "    Parameters:\n",
    "        n (int): The integer to calculate the factorial of.\n",
    "\n",
    "    Returns:\n",
    "        result (int): The factorial of the given integer.\n",
    "    \"\"\"\n",
    "    \n",
    "    result = 1\n",
    "    in1= n + 1\n",
    "    \n",
    "    if n==0:\n",
    "        return result\n",
    "    \n",
    "    for x in range(1,in1):\n",
    "        result = result * x\n",
    "    \n",
    "    return result"
   ]
  },
  {
   "cell_type": "code",
   "execution_count": 12,
   "id": "32df2d2a",
   "metadata": {},
   "outputs": [
    {
     "name": "stdout",
     "output_type": "stream",
     "text": [
      "Factorial of 0  =  1\n",
      "Factorial of 1  =  1\n",
      "Factorial of 2  =  2\n",
      "Factorial of 3  =  6\n",
      "Factorial of 4  =  24\n",
      "Factorial of 5  =  120\n",
      "Factorial of 6  =  720\n",
      "Factorial of 7  =  5040\n",
      "Factorial of 8  =  40320\n",
      "Factorial of 9  =  362880\n"
     ]
    }
   ],
   "source": [
    "for j in range(10):\n",
    "    \n",
    "    output = factorial(j)\n",
    "    print(\"Factorial of\",j,\" = \",output)"
   ]
  },
  {
   "cell_type": "markdown",
   "id": "28c94ff8",
   "metadata": {},
   "source": [
    "---"
   ]
  },
  {
   "cell_type": "markdown",
   "id": "9de05502",
   "metadata": {},
   "source": [
    "### Program 7\n",
    "---\n",
    "\n",
    "Implement a function called `digits(n)` that determines the number of digits in a given integer `n`."
   ]
  },
  {
   "cell_type": "code",
   "execution_count": 13,
   "id": "367084dc",
   "metadata": {},
   "outputs": [],
   "source": [
    "def digits(n):\n",
    "    \"\"\"\n",
    "    Computes the number of digits in a non-negative integer.\n",
    "    \n",
    "    Parameters:\n",
    "        n (int): The integer to count the digits of.\n",
    "    \n",
    "    Returns:\n",
    "        int: The number of digits in n.\n",
    "    \"\"\"\n",
    "    count = 0\n",
    "    \n",
    "    if n <= 9:\n",
    "        count = 1\n",
    "    \n",
    "    if n > 9:\n",
    "    \n",
    "        while (n > 0):\n",
    "         n = n // 10\n",
    "         count = count + 1\n",
    "    \n",
    "    return count"
   ]
  },
  {
   "cell_type": "code",
   "execution_count": 14,
   "id": "4baafb21",
   "metadata": {},
   "outputs": [
    {
     "name": "stdout",
     "output_type": "stream",
     "text": [
      "Run 1\n",
      "2\n",
      "\n",
      "Run 2\n",
      "3\n",
      "\n"
     ]
    }
   ],
   "source": [
    "# Should return 2\n",
    "print(\"Run 1\")\n",
    "print(digits(25),end=\"\\n\\n\")\n",
    "\n",
    "# Should return 3\n",
    "print(\"Run 2\")\n",
    "print(digits(144),end=\"\\n\\n\")"
   ]
  },
  {
   "cell_type": "markdown",
   "id": "0b881260",
   "metadata": {},
   "source": [
    "---"
   ]
  },
  {
   "cell_type": "markdown",
   "id": "5c1f972e",
   "metadata": {},
   "source": [
    "### Program 8\n",
    "---\n",
    "\n",
    "Create a function called `counter` that takes in two parameters, `start` and `stop`. The function should count down from `start` to `stop` if `start` is greater than `stop`, and count up from `start` to `stop` otherwise."
   ]
  },
  {
   "cell_type": "code",
   "execution_count": 15,
   "id": "c9d5dfa6",
   "metadata": {},
   "outputs": [],
   "source": [
    "def counter(start,stop):\n",
    "    \"\"\"\n",
    "    Parameters:\n",
    "        start (int): The starting number for the sequence\n",
    "        stop (int): The ending number for the sequence\n",
    "        \n",
    "    Returns:\n",
    "        A string that describes a sequence of numbers based\n",
    "        on the input arguments.\n",
    "    \"\"\"\n",
    "\n",
    "    if start > stop:\n",
    "        return_string = \"Counting down: \"\n",
    "        for j in range(start,stop-1,-1):\n",
    "            \n",
    "            if j == stop:\n",
    "                return_string = return_string + str(j)\n",
    "            \n",
    "            else:\n",
    "                return_string = return_string + str(j) + \",\"\n",
    "            \n",
    "            j += 1\n",
    "    \n",
    "    elif stop > start:\n",
    "        \n",
    "        return_string = \"Counting up: \"\n",
    "        \n",
    "        for j in range(start,stop+1):\n",
    "            \n",
    "            if j == stop:\n",
    "                return_string = return_string + str(j)\n",
    "            \n",
    "            else:\n",
    "                return_string = return_string + str(j) + \",\"\n",
    "            \n",
    "            j += 1\n",
    "    \n",
    "    else:\n",
    "        return_string = \"Counting up: \"\n",
    "        return_string = return_string + str(start)\n",
    "    \n",
    "    return return_string"
   ]
  },
  {
   "cell_type": "code",
   "execution_count": 16,
   "id": "7c1411ac",
   "metadata": {},
   "outputs": [
    {
     "name": "stdout",
     "output_type": "stream",
     "text": [
      "Run 1\n",
      "Counting up: 1,2,3,4,5,6,7,8,9,10\n",
      "\n",
      "Run 2\n",
      "Counting down: 2,1\n",
      "\n",
      "Run 3\n",
      "Counting up: 5\n",
      "\n"
     ]
    }
   ],
   "source": [
    "# Should be \"Counting up: 1,2,3,4,5,6,7,8,9,10\"\n",
    "print(\"Run 1\")\n",
    "print(counter(1, 10),end=\"\\n\\n\")\n",
    "\n",
    "# Should be \"Counting down: 2,1\"\n",
    "print(\"Run 2\")\n",
    "print(counter(2, 1),end=\"\\n\\n\") \n",
    "\n",
    "# Should be \"Counting up: 5\"\n",
    "print(\"Run 3\")\n",
    "print(counter(5, 5),end=\"\\n\\n\")"
   ]
  },
  {
   "cell_type": "markdown",
   "id": "72e2c647",
   "metadata": {},
   "source": [
    "---"
   ]
  },
  {
   "cell_type": "markdown",
   "id": "e5ef8c5e",
   "metadata": {},
   "source": [
    "### Program 9\n",
    "---\n",
    "\n",
    "The `even_numbers` function returns a space-separated string of all positive numbers that are divisible by 2, up to and including the maximum that's passed into the function. \n",
    "\n",
    "**For example**, even_numbers(6) returns “2 4 6”."
   ]
  },
  {
   "cell_type": "code",
   "execution_count": 17,
   "id": "ab4f20c0",
   "metadata": {},
   "outputs": [],
   "source": [
    "def even_numbers(maximum):\n",
    "    \"\"\"\n",
    "    Parameters:\n",
    "        maximum (int): The maximum number to consider\n",
    "        \n",
    "    Returns:\n",
    "        str: A space-separated string of even numbers\n",
    "        from 2 to 'maximum'\n",
    "    \"\"\"\n",
    "    \n",
    "    return_string = \"\"\n",
    "\n",
    "    for x in range(2,maximum+1):\n",
    "\n",
    "        if x % 2 == 0:\n",
    "            return_string += str(x) + \" \"\n",
    "\n",
    "    return return_string.strip()"
   ]
  },
  {
   "cell_type": "code",
   "execution_count": 18,
   "id": "416da365",
   "metadata": {
    "scrolled": true
   },
   "outputs": [
    {
     "name": "stdout",
     "output_type": "stream",
     "text": [
      "Run 1\n",
      "2 4 6\n",
      "\n",
      "Run 2\n",
      "2 4 6 8 10\n",
      "\n",
      "Run 3\n",
      "\n",
      "\n",
      "Run 4\n",
      "2\n",
      "\n",
      "Run 5\n",
      "\n",
      "\n"
     ]
    }
   ],
   "source": [
    "# Should be 2 4 6\n",
    "print(\"Run 1\")\n",
    "print(even_numbers(6),end=\"\\n\\n\")\n",
    "\n",
    "# Should be 2 4 6 8 10\n",
    "print(\"Run 2\")\n",
    "print(even_numbers(10),end=\"\\n\\n\")\n",
    "\n",
    "# No numbers displayed\n",
    "print(\"Run 3\")\n",
    "print(even_numbers(1),end=\"\\n\\n\")\n",
    "\n",
    "# Should be 2\n",
    "print(\"Run 4\")\n",
    "print(even_numbers(3),end=\"\\n\\n\")\n",
    "\n",
    "# No numbers displayed\n",
    "print(\"Run 5\")\n",
    "print(even_numbers(0),end=\"\\n\\n\")  "
   ]
  },
  {
   "cell_type": "markdown",
   "id": "41438bb7",
   "metadata": {},
   "source": [
    "---"
   ]
  },
  {
   "cell_type": "markdown",
   "id": "3f42fd75",
   "metadata": {},
   "source": [
    "### Program 10\n",
    "---\n",
    "\n",
    "Write a script that prints the first 10 cube numbers (x**3), starting with x=1 and ending with x=10."
   ]
  },
  {
   "cell_type": "code",
   "execution_count": 19,
   "id": "c36b026e",
   "metadata": {},
   "outputs": [
    {
     "name": "stdout",
     "output_type": "stream",
     "text": [
      "1\n",
      "8\n",
      "27\n",
      "64\n",
      "125\n",
      "216\n",
      "343\n",
      "512\n",
      "729\n",
      "1000\n"
     ]
    }
   ],
   "source": [
    "for i in range(1,11):\n",
    "  print(i**3)"
   ]
  },
  {
   "cell_type": "markdown",
   "id": "3a002ab5",
   "metadata": {},
   "source": [
    "---"
   ]
  },
  {
   "cell_type": "markdown",
   "id": "7f2f22a9",
   "metadata": {},
   "source": [
    "### Program 11\n",
    "---\n",
    "\n",
    "Write a script that prints the multiples of 7 between 0 and 100. Print one multiple per line and avoid printing any numbers that aren't multiples of 7. Remember that 0 is also a multiple of 7.\n"
   ]
  },
  {
   "cell_type": "code",
   "execution_count": 20,
   "id": "b9e265dc",
   "metadata": {},
   "outputs": [
    {
     "name": "stdout",
     "output_type": "stream",
     "text": [
      "0\n",
      "7\n",
      "14\n",
      "21\n",
      "28\n",
      "35\n",
      "42\n",
      "49\n",
      "56\n",
      "63\n",
      "70\n",
      "77\n",
      "84\n",
      "91\n",
      "98\n"
     ]
    }
   ],
   "source": [
    "for i in range(0,101):\n",
    "    if i%7 == 0:\n",
    "        print(i)\n"
   ]
  },
  {
   "cell_type": "markdown",
   "id": "191eec1a",
   "metadata": {},
   "source": [
    "---"
   ]
  },
  {
   "cell_type": "markdown",
   "id": "4a6b6e09",
   "metadata": {},
   "source": [
    "### Program 12\n",
    "---\n",
    "\n",
    "Write a Python function that takes two arguments, number and base, and checks if number can be expressed as a power of base. The function should return a boolean value indicating whether or not number can be expressed as a power of base."
   ]
  },
  {
   "cell_type": "code",
   "execution_count": 21,
   "id": "5291f6c7",
   "metadata": {},
   "outputs": [],
   "source": [
    "def check_power(number,base):\n",
    "    if number < base and number != 1:\n",
    "        return bool(0)  #converts value to boolean type\n",
    "    num1 = number / base\n",
    "    if num1 == 1 or number == 1:\n",
    "        return bool(1)\n",
    "    return check_power(num1,base)\n"
   ]
  },
  {
   "cell_type": "code",
   "execution_count": 22,
   "id": "d9eb7aa4",
   "metadata": {},
   "outputs": [
    {
     "name": "stdout",
     "output_type": "stream",
     "text": [
      "Run 1\n",
      "False\n",
      "\n",
      "Run 2\n",
      "True\n"
     ]
    }
   ],
   "source": [
    "# Should be False\n",
    "print(\"Run 1\")\n",
    "print(check_power(10,2),end=\"\\n\\n\")\n",
    "\n",
    "# Should be True\n",
    "print(\"Run 2\")\n",
    "print(check_power(8,2))\n",
    "    \n"
   ]
  },
  {
   "cell_type": "markdown",
   "id": "3babec8f",
   "metadata": {},
   "source": [
    "---"
   ]
  },
  {
   "cell_type": "markdown",
   "id": "1d2daf98",
   "metadata": {},
   "source": [
    "### Program 13\n",
    "---\n",
    "\n",
    "Write a function in Python that counts the number of digits in a given integer. The function should take an integer as input and return the count of digits in the integer. The count should be returned as an integer value. The function should be named digits and it should have one parameter named n."
   ]
  },
  {
   "cell_type": "code",
   "execution_count": 23,
   "id": "aa5a1317",
   "metadata": {},
   "outputs": [],
   "source": [
    "def digits(n):\n",
    "    count = 0\n",
    "    if n <= 9:\n",
    "        count = 1\n",
    "    if n > 9:\n",
    "        while (n > 0):\n",
    "         n = n // 10\n",
    "         count = count + 1\n",
    "    return count"
   ]
  },
  {
   "cell_type": "code",
   "execution_count": 24,
   "id": "1a1a4b29",
   "metadata": {},
   "outputs": [
    {
     "name": "stdout",
     "output_type": "stream",
     "text": [
      "Run 1\n",
      "2\n",
      "\n",
      "Run 2\n",
      "3\n",
      "\n",
      "Run 3\n",
      "5\n",
      "\n",
      "Run 4\n",
      "1\n"
     ]
    }
   ],
   "source": [
    "# Should be 2\n",
    "print(\"Run 1\")\n",
    "print(digits(25),end=\"\\n\\n\")\n",
    "\n",
    "# Should be 3\n",
    "print(\"Run 2\")\n",
    "print(digits(144),end=\"\\n\\n\")\n",
    "\n",
    "# Should be 5\n",
    "print(\"Run 3\")\n",
    "print(digits(10000),end=\"\\n\\n\")\n",
    "\n",
    "# Should be 1\n",
    "print(\"Run 4\")\n",
    "print(digits(0))"
   ]
  },
  {
   "cell_type": "markdown",
   "id": "b62c246a",
   "metadata": {},
   "source": [
    "---"
   ]
  },
  {
   "cell_type": "markdown",
   "id": "18be8ad3",
   "metadata": {},
   "source": [
    "### Program 14\n",
    "---\n",
    "\n",
    "The given code defines a function counter that takes in two arguments start and stop. The purpose of this function is to count from the start value to the stop value.\n",
    "\n",
    "\n",
    "If the start value is greater than the stop value, the function creates a return string `\"Counting down: \"`\n",
    "\n",
    "If the stop value is greater than the start value, the function creates a return string `\"Counting up: \"`\n",
    "\n",
    "If start and stop values are equal, the function creates a return string \"Counting up: \" and adds the value of start to it. \n",
    "\n",
    "The function then returns this constructed return string."
   ]
  },
  {
   "cell_type": "code",
   "execution_count": 25,
   "id": "88daf1a5",
   "metadata": {},
   "outputs": [],
   "source": [
    "def counter(start,stop):\n",
    "    x = start\n",
    "    y = stop\n",
    "    if x > y:\n",
    "        return_string = \"Counting down: \"\n",
    "        for j in range(x,y-1,-1):\n",
    "            if j == stop:\n",
    "                return_string = return_string + str(j)\n",
    "            else:\n",
    "                return_string = return_string + str(j) + \", \"\n",
    "            j += 1\n",
    "    elif y > x:\n",
    "        return_string = \"Counting up: \"\n",
    "        for j in range(x,y+1):\n",
    "            if j == stop:\n",
    "                return_string = return_string + str(j)\n",
    "            else:\n",
    "                return_string = return_string + str(j) + \", \"\n",
    "            j += 1\n",
    "    else:\n",
    "        return_string = \"Counting up: \"\n",
    "        return_string = return_string + str(x)\n",
    "    return return_string\n"
   ]
  },
  {
   "cell_type": "code",
   "execution_count": 26,
   "id": "6090b281",
   "metadata": {
    "scrolled": true
   },
   "outputs": [
    {
     "name": "stdout",
     "output_type": "stream",
     "text": [
      "Run 1\n",
      "Start Value: 5 | Stop value: 5\n",
      "Counting up: 5\n",
      "\n",
      "Run 2\n",
      "Start Value: 1 | Stop value: 10\n",
      "Counting up: 1, 2, 3, 4, 5, 6, 7, 8, 9, 10\n",
      "\n",
      "Run 3\n",
      "Start Value: 10 | Stop value: 1\n",
      "Counting down: 10, 9, 8, 7, 6, 5, 4, 3, 2, 1\n",
      "\n",
      "Run 4\n",
      "Start Value: -7 | Stop value: -15\n",
      "Counting down: -7, -8, -9, -10, -11, -12, -13, -14, -15\n",
      "\n",
      "Run 5\n",
      "Start Value: -25 | Stop value: -20\n",
      "Counting up: -25, -24, -23, -22, -21, -20\n",
      "\n"
     ]
    }
   ],
   "source": [
    "# Should be 5\n",
    "print(\"Run 1\")\n",
    "print(\"Start Value: 5 | Stop value: 5\")\n",
    "print(counter(5,5),end=\"\\n\\n\")\n",
    "\n",
    "# Should be 1, 2, 3, 4, 5, 6, 7, 8, 9, 10\n",
    "print(\"Run 2\")\n",
    "print(\"Start Value: 1 | Stop value: 10\")\n",
    "print(counter(1,10),end=\"\\n\\n\")\n",
    "\n",
    "# Should be 5\n",
    "print(\"Run 3\")\n",
    "print(\"Start Value: 10 | Stop value: 1\")\n",
    "print(counter(10,1),end=\"\\n\\n\")\n",
    "\n",
    "\n",
    "# Should be -7, -8, -9, -10, -11, -12, -13, -14, -15\n",
    "print(\"Run 4\")\n",
    "print(\"Start Value: -7 | Stop value: -15\")\n",
    "print(counter(-7,-15),end=\"\\n\\n\")\n",
    "\n",
    "# Should be -25, -24, -23, -22, -21, -20\n",
    "print(\"Run 5\")\n",
    "print(\"Start Value: -25 | Stop value: -20\")\n",
    "print(counter(-25,-20),end=\"\\n\\n\")"
   ]
  },
  {
   "cell_type": "markdown",
   "id": "eafd2bde",
   "metadata": {},
   "source": [
    "---"
   ]
  },
  {
   "cell_type": "markdown",
   "id": "9c3aa957",
   "metadata": {},
   "source": [
    "### Program 15\n",
    "---\n",
    "\n",
    "Complete the `is_power_of` function return whether the number is a power of the given base. \n",
    "\n",
    "**Note: base is assumed to be a positive number.**"
   ]
  },
  {
   "cell_type": "code",
   "execution_count": 27,
   "id": "25cf4802",
   "metadata": {},
   "outputs": [],
   "source": [
    "def is_power_of(number, base):\n",
    "    \n",
    "  \n",
    "  if number < base and number !=1:\n",
    "    \n",
    "    return bool(0)\n",
    "\n",
    "  \n",
    "  num1 = number / base\n",
    "  if num1 == 1 or number == 1:\n",
    "    return bool(1)\n",
    "  return is_power_of(num1, base)"
   ]
  },
  {
   "cell_type": "code",
   "execution_count": 28,
   "id": "8ad5f30d",
   "metadata": {},
   "outputs": [
    {
     "name": "stdout",
     "output_type": "stream",
     "text": [
      "Run 1\n",
      "True\n",
      "\n",
      "Run 2\n",
      "True\n",
      "\n",
      "Run 3\n",
      "False\n",
      "\n"
     ]
    }
   ],
   "source": [
    "# Should be True\n",
    "print(\"Run 1\")\n",
    "print(is_power_of(1,2), end= \"\\n\\n\")\n",
    "\n",
    "\n",
    "# Should be True\n",
    "print(\"Run 2\")\n",
    "print(is_power_of(64,4),end=\"\\n\\n\")\n",
    "\n",
    "\n",
    "# Should be False\n",
    "print(\"Run 3\")\n",
    "print(is_power_of(70,10), end = \"\\n\\n\")"
   ]
  },
  {
   "cell_type": "markdown",
   "id": "728cba00",
   "metadata": {},
   "source": [
    "---"
   ]
  },
  {
   "cell_type": "markdown",
   "id": "a6195e82",
   "metadata": {},
   "source": [
    "###  Program 16\n",
    "---\n",
    "\n",
    "Implement the `sum_positive_numbers` function, as a recursive function that returns the sum of all positive numbers between the number n received and 1. \n",
    "\n",
    "**For example**, when n is 3 it should return 1+2+3=6, and when n is 5 it should return 1+2+3+4+5=15."
   ]
  },
  {
   "cell_type": "code",
   "execution_count": 29,
   "id": "656ed0b1",
   "metadata": {},
   "outputs": [],
   "source": [
    "def sum_positive_numbers(n):\n",
    "    \n",
    "    if n < 1:\n",
    "        return 0\n",
    "  \n",
    "    return n + sum_positive_numbers(n-1)\n"
   ]
  },
  {
   "cell_type": "code",
   "execution_count": 30,
   "id": "31dd4056",
   "metadata": {},
   "outputs": [
    {
     "name": "stdout",
     "output_type": "stream",
     "text": [
      "Run 1\n",
      "6\n",
      "\n",
      "Run 2\n",
      "15\n",
      "\n"
     ]
    }
   ],
   "source": [
    "# Should be 6\n",
    "print(\"Run 1\")\n",
    "print(sum_positive_numbers(3),end=\"\\n\\n\")\n",
    "\n",
    "\n",
    "# Should be 15\n",
    "print(\"Run 2\")\n",
    "print(sum_positive_numbers(5),end=\"\\n\\n\")"
   ]
  },
  {
   "cell_type": "markdown",
   "id": "d53e8f83",
   "metadata": {},
   "source": [
    "---"
   ]
  }
 ],
 "metadata": {
  "kernelspec": {
   "display_name": "Python 3 (ipykernel)",
   "language": "python",
   "name": "python3"
  },
  "language_info": {
   "codemirror_mode": {
    "name": "ipython",
    "version": 3
   },
   "file_extension": ".py",
   "mimetype": "text/x-python",
   "name": "python",
   "nbconvert_exporter": "python",
   "pygments_lexer": "ipython3",
   "version": "3.9.12"
  }
 },
 "nbformat": 4,
 "nbformat_minor": 5
}
