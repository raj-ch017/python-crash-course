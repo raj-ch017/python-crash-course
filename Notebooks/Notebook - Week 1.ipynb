{
 "cells": [
  {
   "cell_type": "markdown",
   "id": "f9736b03",
   "metadata": {},
   "source": [
    "# Week 1 Notebook\n",
    "## Author: @raj-ch017\n",
    "---\n",
    "\n",
    "Programs on basic syntax and arithmetic operations of the Python programming language."
   ]
  },
  {
   "cell_type": "markdown",
   "id": "ade16491",
   "metadata": {},
   "source": [
    "### Program 1\n",
    "---\n",
    "\n",
    "The code block below outputs the text \"Hello, world!\" to the console using the `print()` function. It then assigns the values 3 and 4 to the variables x and y, respectively, and adds them together to get the sum, which is stored in the variable z. The `print()` function is used again to output the sum to the console, along with some additional text.\n",
    "\n",
    "The final `print()` statement outputs a message to the console, which reads \"And through my first python code, I say hello to the world!\"."
   ]
  },
  {
   "cell_type": "code",
   "execution_count": 1,
   "id": "724903a5",
   "metadata": {},
   "outputs": [
    {
     "name": "stdout",
     "output_type": "stream",
     "text": [
      "Hello, world!\n",
      "The sum is: 7\n",
      "And through my first python code, I say hello to the world!\n"
     ]
    }
   ],
   "source": [
    "print(\"Hello, world!\")\n",
    "\n",
    "x = 3\n",
    "y = 4\n",
    "z = x + y\n",
    "\n",
    "print('The sum is:',z)\n",
    "print('And through my first python code, I say hello to the world!')\n"
   ]
  },
  {
   "cell_type": "markdown",
   "id": "8537f2bb",
   "metadata": {},
   "source": [
    "---"
   ]
  },
  {
   "cell_type": "markdown",
   "id": "bb9d9f9d",
   "metadata": {},
   "source": [
    "### Program 2\n",
    "---\n",
    "\n",
    "Fill in the code so that it prints \"Yellow is the color of sunshine\"."
   ]
  },
  {
   "cell_type": "code",
   "execution_count": 2,
   "id": "be47e177",
   "metadata": {},
   "outputs": [
    {
     "name": "stdout",
     "output_type": "stream",
     "text": [
      "Yellow is the color of sunshine\n"
     ]
    }
   ],
   "source": [
    "color = \"Yellow\"\n",
    "thing = \"sunshine\"\n",
    "print(color + \" is the color of \" + thing)"
   ]
  },
  {
   "cell_type": "markdown",
   "id": "379e0f37",
   "metadata": {},
   "source": [
    "---"
   ]
  },
  {
   "cell_type": "markdown",
   "id": "646d8902",
   "metadata": {},
   "source": [
    "### Program 3\n",
    "---\n",
    "\n",
    "Keeping in mind there are 86400 seconds per day, write a program that calculates how many seconds there are in a week, if a week is 7 days.  Print the result on the screen.\n",
    "\n",
    "**Note**: Your result should be in the format of just a number, not a sentence.\n",
    "\n"
   ]
  },
  {
   "cell_type": "code",
   "execution_count": 3,
   "id": "9ea014cb",
   "metadata": {},
   "outputs": [
    {
     "name": "stdout",
     "output_type": "stream",
     "text": [
      "604800\n"
     ]
    }
   ],
   "source": [
    "secs = 86400\n",
    "days = 7\n",
    "week = secs * days\n",
    "\n",
    "print(week)"
   ]
  },
  {
   "cell_type": "markdown",
   "id": "f778d1d6",
   "metadata": {},
   "source": [
    "---"
   ]
  },
  {
   "cell_type": "markdown",
   "id": "0e334da9",
   "metadata": {},
   "source": [
    "### Program 4\n",
    "---\n",
    "\n",
    "\n",
    "Use Python to calculate how many different passwords can be formed with 6 lower case English letters.  For a 1 letter password, there would be 26 possibilities.  For a 2 letter password, each letter is independent of the other, so there would be 26 times 26 possibilities.  Using this information, print the amount of possible passwords that can be formed with 6 letters."
   ]
  },
  {
   "cell_type": "code",
   "execution_count": 4,
   "id": "eac9ec18",
   "metadata": {},
   "outputs": [
    {
     "name": "stdout",
     "output_type": "stream",
     "text": [
      "308915776\n"
     ]
    }
   ],
   "source": [
    "print(26**6)"
   ]
  },
  {
   "cell_type": "markdown",
   "id": "0f04baa3",
   "metadata": {},
   "source": [
    "---"
   ]
  },
  {
   "cell_type": "markdown",
   "id": "66db31ce",
   "metadata": {},
   "source": [
    "### Program 5\n",
    "---\n",
    "\n",
    "Most hard drives are divided into sectors of 512 bytes each.  Our disk has a size of 16 GB. Fill in the blank to calculate how many sectors the disk has.\n",
    "\n",
    "**Note**: Your result should be in the format of just a number, not a sentence."
   ]
  },
  {
   "cell_type": "code",
   "execution_count": 5,
   "id": "6d789342",
   "metadata": {},
   "outputs": [
    {
     "name": "stdout",
     "output_type": "stream",
     "text": [
      "33554432.0\n"
     ]
    }
   ],
   "source": [
    "disk_size = 16*1024*1024*1024\n",
    "sector_size = 512\n",
    "sector_amount = disk_size/sector_size\n",
    "\n",
    "print(sector_amount)"
   ]
  },
  {
   "cell_type": "markdown",
   "id": "1122fc57",
   "metadata": {},
   "source": [
    "---"
   ]
  },
  {
   "cell_type": "markdown",
   "id": "d85c2ad3",
   "metadata": {},
   "source": [
    "### Program 6\n",
    "---\n",
    "\n",
    "Complete the code to calculate the value of Golden Ratio:\n",
    "\n",
    "\n",
    "$$\\frac{1 + \\sqrt{5}}{2}$$\n"
   ]
  },
  {
   "cell_type": "code",
   "execution_count": 6,
   "id": "5cefe832",
   "metadata": {},
   "outputs": [
    {
     "name": "stdout",
     "output_type": "stream",
     "text": [
      "1.75\n"
     ]
    }
   ],
   "source": [
    "ratio = (1+(5**1/2))/2\n",
    "print(ratio)"
   ]
  },
  {
   "cell_type": "markdown",
   "id": "749e2f51",
   "metadata": {},
   "source": [
    "---"
   ]
  }
 ],
 "metadata": {
  "kernelspec": {
   "display_name": "Python 3 (ipykernel)",
   "language": "python",
   "name": "python3"
  },
  "language_info": {
   "codemirror_mode": {
    "name": "ipython",
    "version": 3
   },
   "file_extension": ".py",
   "mimetype": "text/x-python",
   "name": "python",
   "nbconvert_exporter": "python",
   "pygments_lexer": "ipython3",
   "version": "3.9.12"
  }
 },
 "nbformat": 4,
 "nbformat_minor": 5
}
