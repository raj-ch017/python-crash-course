{
 "cells": [
  {
   "cell_type": "markdown",
   "id": "14284d05",
   "metadata": {},
   "source": [
    "# Week 2 Notebook\n",
    "\n",
    "## Author: @raj-ch017\n",
    "\n",
    "---\n",
    "\n",
    "Programs on converting different data types, using variables to assign and reference data, defining functions,and using logical operators to write complex scripts using branching statements."
   ]
  },
  {
   "cell_type": "markdown",
   "id": "31992923",
   "metadata": {},
   "source": [
    "### Program 1\n",
    "---\n",
    "\n",
    "The code provided assigns the value of 13 to the variable `length` and the value of 3 to the variable `width`. It then calculates the product of length and width and stores it in the variable `area`. Finally, it outputs the value of area to the console using the `print()` function.\n",
    "\n",
    "In this case, the variables `length` and `width` represent the length and width of a rectangle, and the calculation `length * width` gives us the area of the rectangle."
   ]
  },
  {
   "cell_type": "code",
   "execution_count": 1,
   "id": "ea178bef",
   "metadata": {},
   "outputs": [
    {
     "name": "stdout",
     "output_type": "stream",
     "text": [
      "39\n"
     ]
    }
   ],
   "source": [
    "length = 13\n",
    "width = 3\n",
    "area = length * width\n",
    "\n",
    "print(area)"
   ]
  },
  {
   "cell_type": "markdown",
   "id": "3a36a175",
   "metadata": {},
   "source": [
    "---"
   ]
  },
  {
   "cell_type": "markdown",
   "id": "898f8d05",
   "metadata": {},
   "source": [
    "### Program 2\n",
    "---\n",
    "\n",
    "In this scenario, two friends are eating dinner at a restaurant. The bill comes in the amount of 47.28 dollars. The friends decide to split the bill evenly between them, after adding 15% tip for the service. Calculate the tip, the total amount to pay, and each friend's share, then output a message saying \"**Each person needs to pay:** \" followed by the resulting number."
   ]
  },
  {
   "cell_type": "code",
   "execution_count": 2,
   "id": "6aa47c35",
   "metadata": {},
   "outputs": [
    {
     "name": "stdout",
     "output_type": "stream",
     "text": [
      "Each person needs to pay: $27.186\n"
     ]
    }
   ],
   "source": [
    "bill = 47.28\n",
    "tip = (0.15*bill)\n",
    "total = bill + tip\n",
    "share = total/2 \n",
    "\n",
    "print(\"Each person needs to pay: $\" + str(share))"
   ]
  },
  {
   "cell_type": "markdown",
   "id": "b3a000c2",
   "metadata": {},
   "source": [
    "---"
   ]
  },
  {
   "cell_type": "markdown",
   "id": "ba95633c",
   "metadata": {},
   "source": [
    "### Program 3\n",
    "---\n",
    "\n",
    "The function `add_number` takes two parameters, `x` and `y`, adds them together, and prints the result with a meaningful message."
   ]
  },
  {
   "cell_type": "code",
   "execution_count": 3,
   "id": "dec82fd9",
   "metadata": {},
   "outputs": [
    {
     "name": "stdout",
     "output_type": "stream",
     "text": [
      "The sum of 77 and 33 equals 110\n"
     ]
    }
   ],
   "source": [
    "def add_number(x,y):\n",
    "    \"\"\" \n",
    "    Prints the sum of two numbers\n",
    "    \n",
    "    Parameters:\n",
    "        x (int): First number\n",
    "        y (int): Second number\n",
    "        \n",
    "    Returns:\n",
    "        None\n",
    "    \"\"\"\n",
    "    print(\"The sum of\",x,\"and\",y,\"equals\",x+y)\n",
    "    \n",
    "add_number(77,33)"
   ]
  },
  {
   "cell_type": "markdown",
   "id": "2c60ac64",
   "metadata": {},
   "source": [
    "---"
   ]
  },
  {
   "cell_type": "markdown",
   "id": "c5094c5c",
   "metadata": {},
   "source": [
    "### Program 4\n",
    "---\n",
    "\n",
    "The function `book_store` takes one argument, `copies`, representing the number of copies of a book to be purchased. The function calculates the total cost of purchasing these copies including a discount on the marked price, delivery charges, and the selling price of the book.\n",
    "\n",
    "- First, the function sets the `cover_price` of the book to 24.95. It then calculates the discount on this price, which is equal to 40% of the cover price, and stores it in the `discount` variable. The selling price of the book is then calculated by subtracting the discount from the cover price and storing it in the `sell_price` variable.\n",
    "\n",
    "- Next, the function calculates the delivery charges based on the number of extra copies bought (i.e. the number of copies above the first one). The delivery charge for the first copy is 3, and for each additional copy, it is 0.75. The number of additional copies is calculated by subtracting 1 from the total number of copies, since the first copy has no additional delivery charge. The total delivery charges are then stored in the `deli_charges` variable.\n",
    "\n",
    "- Finally, the function calculates the total cost of purchasing the given number of copies by adding the selling price and the delivery charges. The total cost is then printed to the console using the print function.\n",
    "\n",
    "- Note that the function does not return any value, it just prints the total cost to the console."
   ]
  },
  {
   "cell_type": "code",
   "execution_count": 4,
   "id": "5bd2d8b1",
   "metadata": {},
   "outputs": [
    {
     "name": "stdout",
     "output_type": "stream",
     "text": [
      "92.22\n"
     ]
    }
   ],
   "source": [
    "def book_store(copies):\n",
    "    \"\"\" \n",
    "    Calculate the total cost of purchasing multiple copies of\n",
    "    a book, including delivery charges.\n",
    "    \n",
    "    Parameters:\n",
    "        copies (int): the number of copies being purchased\n",
    "        \n",
    "    Returns:\n",
    "        None    \n",
    "    \"\"\"\n",
    "    \n",
    "    cover_price = 24.95 \n",
    "    discount = 0.40 * cover_price   #calculates the discount based on the marked price\n",
    "    sell_price = cover_price - discount #calculates the selling price, depending on the discount\n",
    "    additional_copies = copies - 1  #the number of extra copies bought\n",
    "    deli_charges = 3 + (additional_copies*0.75) #delivery charge calculation\n",
    "    total = sell_price + deli_charges   #calculates the total\n",
    "    \n",
    "    print(total)\n",
    "    \n",
    "book_store(100)    "
   ]
  },
  {
   "cell_type": "markdown",
   "id": "b6719a43",
   "metadata": {},
   "source": [
    "---"
   ]
  },
  {
   "cell_type": "markdown",
   "id": "6fab821c",
   "metadata": {},
   "source": [
    "### Program 5\n",
    "---\n",
    "\n",
    "The function `convert_distance` converts miles to kilometers (km).\n",
    "\n",
    "Call the function to convert the trip distance from miles to kilometers.\n",
    "\n",
    "Calculate the round-trip in kilometers by doubling the result, and to print the result"
   ]
  },
  {
   "cell_type": "code",
   "execution_count": 5,
   "id": "db88afe4",
   "metadata": {},
   "outputs": [
    {
     "name": "stdout",
     "output_type": "stream",
     "text": [
      "The distance in kilometers is 33.6\n",
      "The round-trip distance in kilometers is 67.2\n"
     ]
    }
   ],
   "source": [
    "\n",
    "\n",
    "def convert_distance(miles):\n",
    "    \"\"\"\n",
    "    Converts  a distance given in miles to kilometers.\n",
    "    \n",
    "    Parameter:\n",
    "        miles (float): A distance in miles\n",
    "        \n",
    "    Returns:\n",
    "        float: The distance in kilometers\n",
    "    \"\"\"\n",
    "    return miles * 1.6  \n",
    "\n",
    "my_trip_miles = 21\n",
    "\n",
    "\n",
    "\n",
    "my_trip_km = convert_distance(my_trip_miles)\n",
    "\n",
    "print(\"The distance in kilometers is \" + str(my_trip_km))\n",
    "\n",
    "total_km = 2 * my_trip_km\n",
    "print(\"The round-trip distance in kilometers is \" + str(total_km))"
   ]
  },
  {
   "cell_type": "markdown",
   "id": "1bf8ff25",
   "metadata": {},
   "source": [
    "---"
   ]
  },
  {
   "cell_type": "markdown",
   "id": "d6b087cd",
   "metadata": {},
   "source": [
    "\n",
    "### Program 6\n",
    "---\n",
    "\n",
    "The function `order_numbers` compares two numbers and returns them in increasing order."
   ]
  },
  {
   "cell_type": "code",
   "execution_count": 6,
   "id": "2deac1d2",
   "metadata": {},
   "outputs": [
    {
     "name": "stdout",
     "output_type": "stream",
     "text": [
      "99 888\n"
     ]
    }
   ],
   "source": [
    "def order_numbers(number1, number2):\n",
    "    \"\"\" \n",
    "    Returns two numbers in ascending order\n",
    "    \n",
    "    Parameters:\n",
    "        number1 (int): A number\n",
    "        number2 (int): A number\n",
    "        \n",
    "    Returns:\n",
    "        Two numbers in ascending order\n",
    "    \"\"\"\n",
    "    if number2 > number1:\n",
    "        return number1, number2\n",
    "\n",
    "    else:\n",
    "        return number2, number1\n",
    "\n",
    "    \n",
    "\n",
    "smaller, bigger = order_numbers(888, 99)\n",
    "print(smaller, bigger)"
   ]
  },
  {
   "cell_type": "markdown",
   "id": "fa1b1bd7",
   "metadata": {},
   "source": [
    "---"
   ]
  },
  {
   "cell_type": "markdown",
   "id": "87de6757",
   "metadata": {},
   "source": [
    "### Program 7\n",
    "---\n",
    "\n",
    "The function `format_name` that takes two parameters, `first_name` and `last_name`.\n",
    "\n",
    "The function checks if both `first_name` and `last_name` are not empty strings by using the `len()` function to check their length. If both are not empty, the function creates a string name by concatenating `last_name`, a comma, and `first_name` with the format \"`Name: last_name, first_name`\", and returns it.\n",
    "\n",
    "If `first_name` is an empty string but `last_name` is not, the function creates a string name with just the last name and returns it.\n",
    "\n",
    "If `last_name` is an empty string but `first_name` is not, the function creates a string name with just the first name and returns it.\n",
    "\n",
    "If both `first_name` and `last_name` are empty strings, the function returns an empty string."
   ]
  },
  {
   "cell_type": "code",
   "execution_count": 7,
   "id": "ed829789",
   "metadata": {},
   "outputs": [],
   "source": [
    "def format_name(first_name,last_name):\n",
    "    \"\"\" \n",
    "    Parameters:\n",
    "        first_name(str): The first name of the person\n",
    "        last_name (str): The last name of the person\n",
    "        \n",
    "    Returns:\n",
    "        str: A formatted string in the format \n",
    "        \"Name: last_name, first_name\" or \"Name: last_name\" or \"Name: first_name\"\n",
    "        or an empty string.\n",
    "    \"\"\"\n",
    "    \n",
    "    if len(first_name) > 0 and len(last_name) > 0:\n",
    "        name = \"Name: \" + last_name + \", \" + first_name\n",
    "        return name\n",
    "    \n",
    "    elif len(first_name)==0 and len(last_name) > 0:\n",
    "        name = \"Name: \" + last_name\n",
    "        return name\n",
    "    \n",
    "    elif len(first_name) > 0 and len(last_name)==0:\n",
    "        name = \"Name: \" + first_name\n",
    "        return name\n",
    "    \n",
    "    else:\n",
    "        return \"\"\n"
   ]
  },
  {
   "cell_type": "code",
   "execution_count": 8,
   "id": "80eb2332",
   "metadata": {},
   "outputs": [
    {
     "name": "stdout",
     "output_type": "stream",
     "text": [
      "Run 1\n",
      "Name: Hemingway, Ernest\n",
      "\n",
      "Run 2\n",
      "Name: Madonna\n",
      "\n",
      "Run 3\n",
      "Name: Voltaire\n",
      "\n",
      "Run 4\n",
      "\n",
      "\n"
     ]
    }
   ],
   "source": [
    "\n",
    "# Should return the string \"Name: Hemingway, Ernest\"\n",
    "print(\"Run 1\")\n",
    "print(format_name(\"Ernest\", \"Hemingway\"),end=\"\\n\\n\")\n",
    "\n",
    "# Should return the string \"Name: Madonna\"\n",
    "print(\"Run 2\")\n",
    "print(format_name(\"\", \"Madonna\"),end=\"\\n\\n\")\n",
    "\n",
    "# Should return the string \"Name: Voltaire\"\n",
    "print(\"Run 3\")\n",
    "print(format_name(\"Voltaire\", \"\"),end=\"\\n\\n\")\n",
    "\n",
    "# Should return an empty string\n",
    "print(\"Run 4\")\n",
    "print(format_name(\"\", \"\"),end=\"\\n\\n\")\n"
   ]
  },
  {
   "cell_type": "markdown",
   "id": "4138a69f",
   "metadata": {},
   "source": [
    "---"
   ]
  },
  {
   "cell_type": "markdown",
   "id": "e5c1f21f",
   "metadata": {},
   "source": [
    "\n",
    "### Program 8\n",
    "---\n",
    "\n",
    "The `fractional_part` function divides the numerator by the denominator, and returns just the fractional part (a number between 0 and 1). Complete the body of the function so that it returns the right number.\n",
    "\n",
    "**Note**: Since division by 0 produces an error, if the denominator is 0, the function should return 0 instead of attempting the division."
   ]
  },
  {
   "cell_type": "code",
   "execution_count": 9,
   "id": "195edff1",
   "metadata": {},
   "outputs": [],
   "source": [
    "def fractional_part(numerator,denominator):\n",
    "    \"\"\"\n",
    "    Parameters:\n",
    "        numerator (float or int): The numerator of the division\n",
    "        denominator (float or int): The denominator of the division\n",
    "        \n",
    "    Returns:\n",
    "        The fractional part of the division (float) if the\n",
    "        denominator is not zero, otherwise 0\n",
    "    \"\"\"\n",
    "    \n",
    "    if denominator == 0:\n",
    "        return 0\n",
    "    \n",
    "    mod_r = numerator % denominator\n",
    "    frac_r = mod_r / denominator\n",
    "    \n",
    "    if frac_r == 0:\n",
    "        return int(frac_r)\n",
    "    \n",
    "    return frac_r\n",
    "\n"
   ]
  },
  {
   "cell_type": "code",
   "execution_count": 10,
   "id": "35731e1d",
   "metadata": {},
   "outputs": [
    {
     "name": "stdout",
     "output_type": "stream",
     "text": [
      "Run 1\n",
      "0\n",
      "\n",
      "Run 2\n",
      "0.25\n",
      "\n",
      "Run 3\n",
      "0.6666666666666666\n",
      "\n",
      "Run 4\n",
      "0.5\n",
      "\n",
      "Run 5\n",
      "0\n",
      "\n",
      "Run 6\n",
      "0\n",
      "\n"
     ]
    }
   ],
   "source": [
    "\n",
    "# Should be 0\n",
    "print(\"Run 1\")\n",
    "print(fractional_part(5, 5),end=\"\\n\\n\")\n",
    "\n",
    "# Should be 0.25\n",
    "print(\"Run 2\")\n",
    "print(fractional_part(5, 4),end=\"\\n\\n\")\n",
    "\n",
    "# Should be 0.66...\n",
    "print(\"Run 3\")\n",
    "print(fractional_part(5, 3),end=\"\\n\\n\")\n",
    "\n",
    "# Should be 0.5\n",
    "print(\"Run 4\")\n",
    "print(fractional_part(5, 2),end=\"\\n\\n\")\n",
    "\n",
    "# Should be 0\n",
    "print(\"Run 5\")\n",
    "print(fractional_part(5, 0),end=\"\\n\\n\")\n",
    "\n",
    "# Should be 0\n",
    "print(\"Run 6\")\n",
    "print(fractional_part(0, 5),end=\"\\n\\n\") "
   ]
  },
  {
   "cell_type": "markdown",
   "id": "da1f5ccc",
   "metadata": {},
   "source": [
    "---"
   ]
  },
  {
   "cell_type": "markdown",
   "id": "bf92f90a",
   "metadata": {},
   "source": [
    "### Program 9\n",
    "---\n",
    "\n",
    "Students in a class receive their grades as Pass/Fail. Scores of 60 or more (out of 100) mean that the grade is \"Pass\". For lower scores, the grade is \"Fail\". In addition, scores above 95 (not included) are graded as \"Top Score\". Fill in this function so that it returns the proper grade."
   ]
  },
  {
   "cell_type": "code",
   "execution_count": 11,
   "id": "74ee1c6f",
   "metadata": {},
   "outputs": [],
   "source": [
    "def exam_grade(score):\n",
    "    \"\"\"\n",
    "    Determines the exam grade based on the\n",
    "    provided score\n",
    "    \n",
    "    Parameters:\n",
    "        score (float): The score obtained in the exam\n",
    "        \n",
    "    Returns:\n",
    "        str: A string indicating the grade\n",
    "    \"\"\"\n",
    "    \n",
    "    if score > 95:\n",
    "        grade = \"Top Score\"\n",
    "\n",
    "    elif score >= 60 and score <= 95:\n",
    "        grade = \"Pass\"\n",
    "\n",
    "    else:\n",
    "        grade = \"Fail\"\n",
    "\n",
    "    return grade\n",
    "\n"
   ]
  },
  {
   "cell_type": "code",
   "execution_count": 12,
   "id": "5f3aef18",
   "metadata": {},
   "outputs": [
    {
     "name": "stdout",
     "output_type": "stream",
     "text": [
      "Run 1\n",
      "Score of 65: Pass\n",
      "\n",
      "Run 2\n",
      "Score of 55: Fail\n",
      "\n",
      "Run 3\n",
      "Score of 60: Pass\n",
      "\n",
      "Run 4\n",
      "Score of 95: Pass\n",
      "\n",
      "Run 5\n",
      "Score of 100: Top Score\n",
      "\n",
      "Run 6\n",
      "Score of 0: Fail\n",
      "\n"
     ]
    }
   ],
   "source": [
    "# Should be Pass\n",
    "print(\"Run 1\")\n",
    "print(\"Score of 65:\",exam_grade(65),end=\"\\n\\n\")\n",
    "\n",
    "# Should be Fail\n",
    "print(\"Run 2\")\n",
    "print(\"Score of 55:\",exam_grade(55),end=\"\\n\\n\")\n",
    "\n",
    "# Should be Pass\n",
    "print(\"Run 3\")\n",
    "print(\"Score of 60:\",exam_grade(60),end=\"\\n\\n\")\n",
    "\n",
    "# Should be Pass\n",
    "print(\"Run 4\")\n",
    "print(\"Score of 95:\",exam_grade(95),end=\"\\n\\n\")\n",
    "\n",
    "# Should be Top Score\n",
    "print(\"Run 5\")\n",
    "print(\"Score of 100:\",exam_grade(100),end=\"\\n\\n\")\n",
    "\n",
    "# Should be Fail\n",
    "print(\"Run 6\")\n",
    "print(\"Score of 0:\", exam_grade(0),end=\"\\n\\n\") "
   ]
  },
  {
   "cell_type": "markdown",
   "id": "e843908d",
   "metadata": {},
   "source": [
    "---"
   ]
  },
  {
   "cell_type": "markdown",
   "id": "8b6d7dba",
   "metadata": {},
   "source": [
    "### Program 10\n",
    "---\n",
    "\n",
    "The `longest_word` function is used to compare 3 words. It should return the word with the most number of characters (and the first in the list when they have the same length)."
   ]
  },
  {
   "cell_type": "code",
   "execution_count": 13,
   "id": "4937b5f4",
   "metadata": {},
   "outputs": [],
   "source": [
    "def longest_word(word1, word2, word3):\n",
    "    \"\"\"\n",
    "    Returns the longest word among the given three words\n",
    "    \n",
    "    Parameters:\n",
    "        word1 (str): String representing the first word\n",
    "        word2 (str): String representing the second word\n",
    "        word3 (str): String representing the third word\n",
    "        \n",
    "    Returns:\n",
    "        The longest word. In case of a tie, \n",
    "        the first longest encountered is returned.\n",
    "    \"\"\"\n",
    "    \n",
    "    if len(word1) >= len(word2) and len(word1) >= len(word3):\n",
    "        word = word1\n",
    "\n",
    "    elif len(word1) < len(word2) and len(word2) >= len(word3):\n",
    "        word = word2\n",
    "\n",
    "    else:\n",
    "        word = word3\n",
    "\n",
    "    return(word)\n"
   ]
  },
  {
   "cell_type": "code",
   "execution_count": 14,
   "id": "4bb55e73",
   "metadata": {},
   "outputs": [
    {
     "name": "stdout",
     "output_type": "stream",
     "text": [
      "Run 1\n",
      "chair\n",
      "\n",
      "Run 2\n",
      "beyond\n",
      "\n",
      "Run 3\n",
      "notebook\n",
      "\n"
     ]
    }
   ],
   "source": [
    "# Should return 'chair'\n",
    "print(\"Run 1\")\n",
    "print(longest_word(\"chair\", \"couch\", \"table\"),end=\"\\n\\n\")\n",
    "\n",
    "# Should return 'beyond'\n",
    "print(\"Run 2\")\n",
    "print(longest_word(\"bed\", \"bath\", \"beyond\"),end=\"\\n\\n\")\n",
    "\n",
    "# Should return 'notebook'\n",
    "print(\"Run 3\")\n",
    "print(longest_word(\"laptop\", \"notebook\", \"desktop\"),end=\"\\n\\n\")"
   ]
  },
  {
   "cell_type": "markdown",
   "id": "556bda4a",
   "metadata": {},
   "source": [
    "---"
   ]
  },
  {
   "cell_type": "markdown",
   "id": "4c2fef1f",
   "metadata": {},
   "source": [
    "### Program 11\n",
    "---\n",
    "\n",
    "Combine the variables to display the sentence \"How do you like Python so far?\" \n",
    "\n"
   ]
  },
  {
   "cell_type": "code",
   "execution_count": 15,
   "id": "469f750c",
   "metadata": {},
   "outputs": [
    {
     "name": "stdout",
     "output_type": "stream",
     "text": [
      "How do you like Python so far?\n"
     ]
    }
   ],
   "source": [
    "word1 = \"How \"\n",
    "word2 = \"do \"\n",
    "word3 = \"you \"\n",
    "word4 = \"like \"\n",
    "word5 = \"Python \"\n",
    "word6 = \"so \"\n",
    "word7 = \"far?\"\n",
    "\n",
    "print(word1 + word2 + word3 + word4 + word5 + word6 + word7)"
   ]
  },
  {
   "cell_type": "markdown",
   "id": "11af7864",
   "metadata": {},
   "source": [
    "---"
   ]
  },
  {
   "cell_type": "markdown",
   "id": "7e67a271",
   "metadata": {},
   "source": [
    "### Program 12\n",
    "---\n",
    "\n",
    "Complete the script.\n",
    "\n",
    "The function receives a name, then returns a greeting based on whether or not that name is \"Taylor\".\n",
    "\n"
   ]
  },
  {
   "cell_type": "code",
   "execution_count": 16,
   "id": "6f053f2a",
   "metadata": {},
   "outputs": [
    {
     "name": "stdout",
     "output_type": "stream",
     "text": [
      "Welcome back Taylor!\n",
      "Hello there, John\n"
     ]
    }
   ],
   "source": [
    "def greeting(name):\n",
    "    \n",
    "  if name == \"Taylor\":\n",
    "    return \"Welcome back Taylor!\"\n",
    "\n",
    "  else:\n",
    "    return \"Hello there, \" + name\n",
    "\n",
    "print(greeting(\"Taylor\"))\n",
    "print(greeting(\"John\"))"
   ]
  },
  {
   "cell_type": "markdown",
   "id": "7cf1f3d8",
   "metadata": {},
   "source": [
    "---"
   ]
  },
  {
   "cell_type": "markdown",
   "id": "3a1b0424",
   "metadata": {},
   "source": [
    "### Program 13\n",
    "---\n",
    "\n",
    "If a filesystem has a block size of 4096 bytes, this means that a file comprised of only one byte will still use 4096 bytes of storage. A file made up of 4097 bytes will use 4096*2=8192 bytes of storage. Knowing this, can you fill in the gaps in the calculate_storage function below, which calculates the total number of bytes needed to store a file of a given size?"
   ]
  },
  {
   "cell_type": "code",
   "execution_count": 17,
   "id": "fef694ce",
   "metadata": {},
   "outputs": [],
   "source": [
    "def calculate_storage(filesize):\n",
    "    \n",
    "    block_size = 4096\n",
    "    \n",
    "    # Use floor division to calculate how many blocks are fully occupied\n",
    "    full_blocks = filesize//block_size\n",
    "    \n",
    "    # Use the modulo operator to check whether there's any remainder\n",
    "    partial_block_remainder = filesize%block_size\n",
    "    \n",
    "    # Depending on whether there's a remainder or not, return\n",
    "    # the total number of bytes required to allocate enough blocks\n",
    "    # to store your data.\n",
    "    \n",
    "    if partial_block_remainder > 0 and full_blocks >= 1:\n",
    "        return  full_blocks * 8192\n",
    "    else:\n",
    "        return 4096"
   ]
  },
  {
   "cell_type": "code",
   "execution_count": 18,
   "id": "62ec1e26",
   "metadata": {},
   "outputs": [
    {
     "name": "stdout",
     "output_type": "stream",
     "text": [
      "Run 1\n",
      "4096\n",
      "\n",
      "Run 2\n",
      "4096\n",
      "\n",
      "Run 3\n",
      "8192\n",
      "\n",
      "Run 4\n",
      "8192\n"
     ]
    }
   ],
   "source": [
    "# Should be 4096\n",
    "print(\"Run 1\")\n",
    "print(calculate_storage(1),end=\"\\n\\n\")\n",
    "\n",
    "\n",
    "# Should be 4096\n",
    "print(\"Run 2\")\n",
    "print(calculate_storage(4096),end=\"\\n\\n\")\n",
    "\n",
    "\n",
    "# Should be 8192\n",
    "print(\"Run 3\")\n",
    "print(calculate_storage(4097),end=\"\\n\\n\")\n",
    "\n",
    "\n",
    "# Should be 8192\n",
    "print(\"Run 4\")\n",
    "print(calculate_storage(6000))"
   ]
  },
  {
   "cell_type": "markdown",
   "id": "ce74fa36",
   "metadata": {},
   "source": [
    "---"
   ]
  },
  {
   "cell_type": "markdown",
   "id": "8c701503",
   "metadata": {},
   "source": [
    "### Program 14\n",
    "---\n",
    "\n",
    "The `color_translator` function receives the name of a color, then prints its hexadecimal value. \n",
    "\n",
    "Currently, it only supports the three additive primary colors (red, green, blue), so it returns \"unknown\" for all other colors."
   ]
  },
  {
   "cell_type": "code",
   "execution_count": 19,
   "id": "2ba17a09",
   "metadata": {},
   "outputs": [],
   "source": [
    "def color_translator(color):\n",
    "    \n",
    "    if color == \"red\":\n",
    "        hex_color = \"#ff0000\"\n",
    "    \n",
    "    elif color == \"green\":\n",
    "        hex_color = \"#00ff00\"\n",
    "    \n",
    "    elif color == \"blue\":\n",
    "        hex_color = \"#0000ff\"\n",
    "    \n",
    "    else:\n",
    "        hex_color = \"unknown\"\n",
    "    \n",
    "    return hex_color"
   ]
  },
  {
   "cell_type": "code",
   "execution_count": 20,
   "id": "cdd4a2aa",
   "metadata": {},
   "outputs": [
    {
     "name": "stdout",
     "output_type": "stream",
     "text": [
      "Run 1\n",
      "#0000ff\n",
      "\n",
      "Run 2\n",
      "unknown\n",
      "\n",
      "Run 3\n",
      "#ff0000\n",
      "\n",
      "Run 4\n",
      "unknown\n",
      "\n",
      "Run 5\n",
      "#00ff00\n",
      "\n",
      "Run 6\n",
      "unknown\n",
      "\n"
     ]
    }
   ],
   "source": [
    "# Should be #0000ff\n",
    "print(\"Run 1\")\n",
    "print(color_translator(\"blue\"),end=\"\\n\\n\")\n",
    "\n",
    "# Should be unknown\n",
    "print(\"Run 2\")\n",
    "print(color_translator(\"yellow\"),end=\"\\n\\n\")\n",
    "\n",
    "# Should be #ff0000\n",
    "print(\"Run 3\")\n",
    "print(color_translator(\"red\"),end=\"\\n\\n\")\n",
    "\n",
    "\n",
    "# Should be unknown\n",
    "print(\"Run 4\")\n",
    "print(color_translator(\"black\"),end=\"\\n\\n\")\n",
    "\n",
    "# Should be #00ff00\n",
    "print(\"Run 5\")\n",
    "print(color_translator(\"green\"),end=\"\\n\\n\")\n",
    "\n",
    "# Should be unknown\n",
    "print(\"Run 6\")\n",
    "print(color_translator(\"\"),end=\"\\n\\n\")"
   ]
  },
  {
   "cell_type": "markdown",
   "id": "b1d8d9dd",
   "metadata": {},
   "source": [
    "---"
   ]
  }
 ],
 "metadata": {
  "kernelspec": {
   "display_name": "Python 3 (ipykernel)",
   "language": "python",
   "name": "python3"
  },
  "language_info": {
   "codemirror_mode": {
    "name": "ipython",
    "version": 3
   },
   "file_extension": ".py",
   "mimetype": "text/x-python",
   "name": "python",
   "nbconvert_exporter": "python",
   "pygments_lexer": "ipython3",
   "version": "3.9.12"
  }
 },
 "nbformat": 4,
 "nbformat_minor": 5
}
